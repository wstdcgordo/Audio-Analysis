{
 "cells": [
  {
   "cell_type": "markdown",
   "metadata": {},
   "source": [
    "***This code is GPU-enabled.***"
   ]
  },
  {
   "cell_type": "markdown",
   "metadata": {},
   "source": [
    "Python version used: **3.12.3**"
   ]
  },
  {
   "cell_type": "markdown",
   "metadata": {},
   "source": [
    "# Installing libraries"
   ]
  },
  {
   "cell_type": "markdown",
   "metadata": {},
   "source": [
    "*For installing PyTorch with GPU, it will depend on the CUDA version installed, refer to https://pytorch.org/get-started/locally/. Also refer here for a CPU one.*"
   ]
  },
  {
   "cell_type": "markdown",
   "metadata": {},
   "source": [
    "When using magic commands, it's `%` for VS Code but `!` for local Jupyter notebook/Google Colab. It's better to use these commands to avoid dependency conflicts."
   ]
  },
  {
   "cell_type": "code",
   "execution_count": 1,
   "metadata": {},
   "outputs": [],
   "source": [
    "# # Installing the required packages\n",
    "# %pip install numpy librosa soundfile transformers tf-keras"
   ]
  },
  {
   "cell_type": "code",
   "execution_count": 2,
   "metadata": {},
   "outputs": [],
   "source": [
    "## Install ffmpeg\n",
    "# %pip install python-ffmpeg"
   ]
  },
  {
   "cell_type": "code",
   "execution_count": 3,
   "metadata": {},
   "outputs": [],
   "source": [
    "# # Install torch (CPU)\n",
    "# %pip install torch torchvision torchaudio"
   ]
  },
  {
   "cell_type": "markdown",
   "metadata": {},
   "source": [
    "*The cell above is for CPU, for GPU usage, refer to this link: https://www.youtube.com/watch?v=NrJz3ACosJA&ab_channel=LearnwithZORO*\n",
    "\n",
    "*Tested on **Windows**, not sure if GPU-utilization would work on Mac, but best to opt for CPU in the meantime.*"
   ]
  },
  {
   "cell_type": "code",
   "execution_count": 4,
   "metadata": {},
   "outputs": [],
   "source": [
    "# # Installing deepfilternet\n",
    "# %pip install deepfilterlib\n",
    "# %pip install deepfilternet"
   ]
  },
  {
   "cell_type": "markdown",
   "metadata": {},
   "source": [
    "*For `deepfilternet`, you need to install **Visual Studio** (as well as additional Visual Studio Packages, not just Visual Studio Code). You also need to install libraries such as `deepfilterlib` and `ffmpeg-python`, as they are all dependencies of `deepfilternet` and may not be included in `pip` installation.*"
   ]
  },
  {
   "cell_type": "code",
   "execution_count": 5,
   "metadata": {},
   "outputs": [
    {
     "name": "stdout",
     "output_type": "stream",
     "text": [
      "True\n",
      "NVIDIA GeForce RTX 3050 Laptop GPU\n"
     ]
    }
   ],
   "source": [
    "import torch, os\n",
    "print(torch.cuda.is_available())  # Should return True\n",
    "print(torch.cuda.get_device_name(0))  # GPU model"
   ]
  },
  {
   "cell_type": "markdown",
   "metadata": {},
   "source": [
    "If the first line indicates `True`, it means `torch` detected a GPU that it will use, and the second line indicates the specific graphics card."
   ]
  },
  {
   "cell_type": "code",
   "execution_count": 6,
   "metadata": {},
   "outputs": [],
   "source": [
    "os.environ[\"PYTORCH_CUDA_ALLOC_CONF\"] = \"expandable_segments:True\""
   ]
  },
  {
   "cell_type": "markdown",
   "metadata": {},
   "source": [
    "# Pipeline"
   ]
  },
  {
   "cell_type": "markdown",
   "metadata": {},
   "source": [
    "The cell below imports necessary libraries. This includes those needed for audio-related Python tasks (`loguru`, `librosa`, `soundfile`, `ffmpeg`, `deepfilternet`/`df`), and `transformers` from Huggingface (for models)."
   ]
  },
  {
   "cell_type": "code",
   "execution_count": 7,
   "metadata": {},
   "outputs": [],
   "source": [
    "# %pip install ffmpeg-python python-ffmpeg"
   ]
  },
  {
   "cell_type": "code",
   "execution_count": 8,
   "metadata": {},
   "outputs": [
    {
     "name": "stderr",
     "output_type": "stream",
     "text": [
      "c:\\Users\\Ebo\\anaconda3\\envs\\odeon\\Lib\\site-packages\\df\\io.py:9: UserWarning: `torchaudio.backend.common.AudioMetaData` has been moved to `torchaudio.AudioMetaData`. Please update the import path.\n",
      "  from torchaudio.backend.common import AudioMetaData\n",
      "c:\\Users\\Ebo\\anaconda3\\envs\\odeon\\Lib\\site-packages\\tqdm\\auto.py:21: TqdmWarning: IProgress not found. Please update jupyter and ipywidgets. See https://ipywidgets.readthedocs.io/en/stable/user_install.html\n",
      "  from .autonotebook import tqdm as notebook_tqdm\n"
     ]
    }
   ],
   "source": [
    "import warnings, librosa, soundfile as sf, gc, glob, pandas as pd, ffmpeg, numpy as np\n",
    "from df import enhance, init_df\n",
    "from transformers import pipeline, AutoModelForAudioClassification, AutoConfig\n",
    "\n",
    "warnings.filterwarnings(\"ignore\")"
   ]
  },
  {
   "cell_type": "markdown",
   "metadata": {},
   "source": [
    "## Multiple audios"
   ]
  },
  {
   "cell_type": "code",
   "execution_count": 9,
   "metadata": {},
   "outputs": [],
   "source": [
    "def enhance_audio_files(input_folder, output_folder):\n",
    "    \"\"\"\n",
    "    Enhances audio files in the input_folder and saves them in output_folder.\n",
    "    \n",
    "    Parameters:\n",
    "    - input_folder (str): Directory containing the original audio files.\n",
    "    - output_folder (str): Directory where enhanced audio files will be saved.\n",
    "    \"\"\"\n",
    "    os.makedirs(output_folder, exist_ok=True)\n",
    "\n",
    "    # Initialize the model and its state once outside the loop\n",
    "    model, df_state, _ = init_df()  # Load default model\n",
    "\n",
    "    # Process each audio file in the input folder\n",
    "    for file_path in glob.glob(os.path.join(input_folder, '*')):\n",
    "        try:\n",
    "            print(f\"Processing {file_path} ...\")\n",
    "            y, sr = librosa.load(file_path, sr=None)  # Load audio file\n",
    "\n",
    "            # Convert to PyTorch tensor\n",
    "            y_tensor = torch.from_numpy(y).float().unsqueeze(0)\n",
    "\n",
    "            # Enhance the audio\n",
    "            enhanced_audio = enhance(model, df_state, y_tensor)\n",
    "\n",
    "            # Convert back to NumPy array\n",
    "            if isinstance(enhanced_audio, torch.Tensor):\n",
    "                enhanced_audio_np = enhanced_audio.cpu().detach().numpy()\n",
    "            else:\n",
    "                enhanced_audio_np = enhanced_audio\n",
    "\n",
    "            # Remove extra batch dimension if present\n",
    "            if enhanced_audio_np.ndim > 1 and enhanced_audio_np.shape[0] == 1:\n",
    "                enhanced_audio_np = enhanced_audio_np[0]\n",
    "\n",
    "            # Prepare output file name\n",
    "            base_name = os.path.splitext(os.path.basename(file_path))[0]\n",
    "            output_file = os.path.join(output_folder, base_name + '.wav')\n",
    "\n",
    "            # Save the enhanced audio\n",
    "            sf.write(output_file, enhanced_audio_np, sr)\n",
    "            print(f\"Enhanced audio saved to {output_file}\\n\")\n",
    "\n",
    "        except Exception as e:\n",
    "            print(f\"Error processing {file_path}: {e}\")"
   ]
  },
  {
   "cell_type": "code",
   "execution_count": 10,
   "metadata": {},
   "outputs": [],
   "source": [
    "def convert_audio_files_to_wav(input_folder, output_folder):\n",
    "    \"\"\"\n",
    "    Converts audio files in the input_folder to WAV format and saves them in output_folder.\n",
    "    \n",
    "    Parameters:\n",
    "    - input_folder (str): Directory containing the original audio files.\n",
    "    - output_folder (str): Directory where converted audio files will be saved.\n",
    "    \"\"\"\n",
    "    os.makedirs(output_folder, exist_ok=True)\n",
    "\n",
    "    # Process each audio file in the input folder\n",
    "    for file_path in glob.glob(os.path.join(input_folder, '*')):\n",
    "        try:\n",
    "            print(f\"Processing {file_path} ...\")\n",
    "            y, sr = librosa.load(file_path, sr=None)  # Load audio file\n",
    "\n",
    "            # Prepare output file name\n",
    "            base_name = os.path.splitext(os.path.basename(file_path))[0]\n",
    "            output_file = os.path.join(output_folder, base_name + '.wav')\n",
    "\n",
    "            # Save the audio in WAV format\n",
    "            sf.write(output_file, y, sr)\n",
    "            print(f\"Converted audio saved to {output_file}\\n\")\n",
    "\n",
    "        except Exception as e:\n",
    "            print(f\"Error processing {file_path}: {e}\")"
   ]
  },
  {
   "cell_type": "code",
   "execution_count": 11,
   "metadata": {},
   "outputs": [],
   "source": [
    "# Execute\n",
    "# enhance_audio_files(input_folder=\"../data/With Backgorund Noise/Cleared\", output_folder=\"../data/Enhanced/With Background Noise\")"
   ]
  },
  {
   "cell_type": "code",
   "execution_count": 12,
   "metadata": {},
   "outputs": [],
   "source": [
    "# enhance_audio_files(input_folder=\"../data/Mixed Interviewer and Speaker\", output_folder=\"../data/Enhanced/Mixed Interviewer and Speaker\")"
   ]
  },
  {
   "cell_type": "markdown",
   "metadata": {},
   "source": [
    "# Models (emotions)"
   ]
  },
  {
   "cell_type": "markdown",
   "metadata": {},
   "source": [
    "## Downloading"
   ]
  },
  {
   "cell_type": "code",
   "execution_count": 13,
   "metadata": {},
   "outputs": [
    {
     "data": {
      "application/vnd.microsoft.datawrangler.viewer.v0+json": {
       "columns": [
        {
         "name": "index",
         "rawType": "int64",
         "type": "integer"
        },
        {
         "name": "Model",
         "rawType": "object",
         "type": "string"
        },
        {
         "name": "Emotions",
         "rawType": "object",
         "type": "unknown"
        }
       ],
       "conversionMethod": "pd.DataFrame",
       "ref": "0145a4b0-3d5d-4fba-aab3-fa140cf3160e",
       "rows": [
        [
         "0",
         "firdhokk/speech-emotion-recognition-with-openai-whisper-large-v3",
         "['angry', 'disgust', 'fearful', 'happy', 'neutral', 'sad', 'surprised']"
        ],
        [
         "1",
         "firdhokk/speech-emotion-recognition-with-facebook-wav2vec2-large-xlsr-53",
         "['angry', 'disgust', 'fearful', 'happy', 'neutral', 'sad', 'surprised']"
        ]
       ],
       "shape": {
        "columns": 2,
        "rows": 2
       }
      },
      "text/html": [
       "<div>\n",
       "<style scoped>\n",
       "    .dataframe tbody tr th:only-of-type {\n",
       "        vertical-align: middle;\n",
       "    }\n",
       "\n",
       "    .dataframe tbody tr th {\n",
       "        vertical-align: top;\n",
       "    }\n",
       "\n",
       "    .dataframe thead th {\n",
       "        text-align: right;\n",
       "    }\n",
       "</style>\n",
       "<table border=\"1\" class=\"dataframe\">\n",
       "  <thead>\n",
       "    <tr style=\"text-align: right;\">\n",
       "      <th></th>\n",
       "      <th>Model</th>\n",
       "      <th>Emotions</th>\n",
       "    </tr>\n",
       "  </thead>\n",
       "  <tbody>\n",
       "    <tr>\n",
       "      <th>0</th>\n",
       "      <td>firdhokk/speech-emotion-recognition-with-opena...</td>\n",
       "      <td>[angry, disgust, fearful, happy, neutral, sad,...</td>\n",
       "    </tr>\n",
       "    <tr>\n",
       "      <th>1</th>\n",
       "      <td>firdhokk/speech-emotion-recognition-with-faceb...</td>\n",
       "      <td>[angry, disgust, fearful, happy, neutral, sad,...</td>\n",
       "    </tr>\n",
       "  </tbody>\n",
       "</table>\n",
       "</div>"
      ],
      "text/plain": [
       "                                               Model  \\\n",
       "0  firdhokk/speech-emotion-recognition-with-opena...   \n",
       "1  firdhokk/speech-emotion-recognition-with-faceb...   \n",
       "\n",
       "                                            Emotions  \n",
       "0  [angry, disgust, fearful, happy, neutral, sad,...  \n",
       "1  [angry, disgust, fearful, happy, neutral, sad,...  "
      ]
     },
     "metadata": {},
     "output_type": "display_data"
    }
   ],
   "source": [
    "models = [\n",
    "    \"firdhokk/speech-emotion-recognition-with-openai-whisper-large-v3\",\n",
    "    \"firdhokk/speech-emotion-recognition-with-facebook-wav2vec2-large-xlsr-53\"\n",
    "]\n",
    "\n",
    "# Loop through each model and print its emotion classes\n",
    "model_data = []\n",
    "for model_name in models:\n",
    "    try:\n",
    "        config = AutoConfig.from_pretrained(model_name)\n",
    "        emotions = list(config.id2label.values())  # Extract emotion classes\n",
    "        model_data.append({\"Model\": model_name, \"Emotions\": emotions})\n",
    "    except Exception as e:\n",
    "        print(f\"Error loading model {model_name}: {e}\")\n",
    "        model_data.append({\"Model\": model_name, \"Emotions\": \"Error loading emotions\"})\n",
    "\n",
    "# Create DataFrame\n",
    "df_models = pd.DataFrame(model_data)\n",
    "\n",
    "# Display the expanded DataFrame\n",
    "display(df_models)"
   ]
  },
  {
   "cell_type": "markdown",
   "metadata": {},
   "source": [
    "## Running/evaluating the model"
   ]
  },
  {
   "cell_type": "markdown",
   "metadata": {},
   "source": [
    "### GPU Usage"
   ]
  },
  {
   "cell_type": "markdown",
   "metadata": {},
   "source": [
    "The code below is dedicated for **GPU usage**, including a function that will automatically clear caches after every audio processed to avoid GPU running out of memory."
   ]
  },
  {
   "cell_type": "markdown",
   "metadata": {},
   "source": [
    "### Videos from Sen Risa Hontiveros"
   ]
  },
  {
   "cell_type": "code",
   "execution_count": 14,
   "metadata": {},
   "outputs": [],
   "source": [
    "# enhance_audio_files(input_folder=r\"C:\\Users\\Ebo\\Projetos Personais\\Rappler\\Audio-Analysis\\data\\NEWNEW\\clean\\folis\\Risa Hontiveros\", output_folder=r\"C:\\Users\\Ebo\\Projetos Personais\\Rappler\\Audio-Analysis\\data\\NEWNEW\\clean\\folis\\Risa Hontiveros\\enhanced\")\n",
    "# convert_audio_files_to_wav(input_folder=r\"C:\\Users\\Ebo\\Projetos Personais\\Rappler\\Audio-Analysis\\data\\NEWNEW\\clean\\folis\\Risa Hontiveros\", output_folder=r\"C:\\Users\\Ebo\\Projetos Personais\\Rappler\\Audio-Analysis\\data\\NEWNEW\\clean\\folis\\Risa Hontiveros\\waved\")"
   ]
  },
  {
   "cell_type": "code",
   "execution_count": 15,
   "metadata": {},
   "outputs": [
    {
     "name": "stdout",
     "output_type": "stream",
     "text": [
      "\u001b[32m2025-03-01 20:46:35\u001b[0m | \u001b[1mINFO    \u001b[0m | \u001b[36mDF\u001b[0m | \u001b[1mRunning on torch 2.6.0+cu126\u001b[0m\n",
      "\u001b[32m2025-03-01 20:46:35\u001b[0m | \u001b[1mINFO    \u001b[0m | \u001b[36mDF\u001b[0m | \u001b[1mRunning on host LAPTOP-5IMR3DTG\u001b[0m\n",
      "\u001b[32m2025-03-01 20:46:35\u001b[0m | \u001b[1mINFO    \u001b[0m | \u001b[36mDF\u001b[0m | \u001b[1mLoading model settings of DeepFilterNet3\u001b[0m\n",
      "\u001b[32m2025-03-01 20:46:35\u001b[0m | \u001b[1mINFO    \u001b[0m | \u001b[36mDF\u001b[0m | \u001b[1mUsing DeepFilterNet3 model at C:\\Users\\Ebo\\AppData\\Local\\DeepFilterNet\\DeepFilterNet\\Cache\\DeepFilterNet3\u001b[0m\n",
      "\u001b[32m2025-03-01 20:46:35\u001b[0m | \u001b[1mINFO    \u001b[0m | \u001b[36mDF\u001b[0m | \u001b[1mInitializing model `deepfilternet3`\u001b[0m\n",
      "\u001b[32m2025-03-01 20:46:36\u001b[0m | \u001b[1mINFO    \u001b[0m | \u001b[36mDF\u001b[0m | \u001b[1mFound checkpoint C:\\Users\\Ebo\\AppData\\Local\\DeepFilterNet\\DeepFilterNet\\Cache\\DeepFilterNet3\\checkpoints\\model_120.ckpt.best with epoch 120\u001b[0m\n",
      "\u001b[32m2025-03-01 20:46:36\u001b[0m | \u001b[1mINFO    \u001b[0m | \u001b[36mDF\u001b[0m | \u001b[1mRunning on device cuda:0\u001b[0m\n",
      "\u001b[32m2025-03-01 20:46:36\u001b[0m | \u001b[1mINFO    \u001b[0m | \u001b[36mDF\u001b[0m | \u001b[1mModel loaded\u001b[0m\n",
      "Processing C:\\Users\\Ebo\\Projetos Personais\\Rappler\\Audio-Analysis\\data\\NEWNEW\\clean\\folis\\Drs on Tiktok\\enhanced ...\n",
      "Error processing C:\\Users\\Ebo\\Projetos Personais\\Rappler\\Audio-Analysis\\data\\NEWNEW\\clean\\folis\\Drs on Tiktok\\enhanced: [Errno 13] Permission denied: 'C:\\\\Users\\\\Ebo\\\\Projetos Personais\\\\Rappler\\\\Audio-Analysis\\\\data\\\\NEWNEW\\\\clean\\\\folis\\\\Drs on Tiktok\\\\enhanced'\n",
      "Processing C:\\Users\\Ebo\\Projetos Personais\\Rappler\\Audio-Analysis\\data\\NEWNEW\\clean\\folis\\Drs on Tiktok\\https___www.tiktok.com__docanneramosobgyn_video_7268207773727329542__r_1_u_code_0_preview_pb_0_sharer_language_en__d_ej21410f5hm852_share_item_id_7268207773727329542_source_h5_m.mp3 ...\n",
      "Enhanced audio saved to C:\\Users\\Ebo\\Projetos Personais\\Rappler\\Audio-Analysis\\data\\NEWNEW\\clean\\folis\\Drs on Tiktok\\enhanced\\https___www.tiktok.com__docanneramosobgyn_video_7268207773727329542__r_1_u_code_0_preview_pb_0_sharer_language_en__d_ej21410f5hm852_share_item_id_7268207773727329542_source_h5_m.wav\n",
      "\n",
      "Processing C:\\Users\\Ebo\\Projetos Personais\\Rappler\\Audio-Analysis\\data\\NEWNEW\\clean\\folis\\Drs on Tiktok\\https___www.tiktok.com__docanneramosobgyn_video_7449707549403696385__r_1_u_code_0_preview_pb_0_sharer_language_en__d_ej2140h40bk2mc_share_item_id_7449707549403696385_source_h5_m.mp3 ...\n",
      "Enhanced audio saved to C:\\Users\\Ebo\\Projetos Personais\\Rappler\\Audio-Analysis\\data\\NEWNEW\\clean\\folis\\Drs on Tiktok\\enhanced\\https___www.tiktok.com__docanneramosobgyn_video_7449707549403696385__r_1_u_code_0_preview_pb_0_sharer_language_en__d_ej2140h40bk2mc_share_item_id_7449707549403696385_source_h5_m.wav\n",
      "\n",
      "Processing C:\\Users\\Ebo\\Projetos Personais\\Rappler\\Audio-Analysis\\data\\NEWNEW\\clean\\folis\\Drs on Tiktok\\https___www.tiktok.com__docanneramosobgyn_video_7457836356845309191__r_1_u_code_0_preview_pb_0_sharer_language_en__d_ej217dklba7df9_share_item_id_7457836356845309191_source_h5_m.mp3 ...\n",
      "Enhanced audio saved to C:\\Users\\Ebo\\Projetos Personais\\Rappler\\Audio-Analysis\\data\\NEWNEW\\clean\\folis\\Drs on Tiktok\\enhanced\\https___www.tiktok.com__docanneramosobgyn_video_7457836356845309191__r_1_u_code_0_preview_pb_0_sharer_language_en__d_ej217dklba7df9_share_item_id_7457836356845309191_source_h5_m.wav\n",
      "\n",
      "Processing C:\\Users\\Ebo\\Projetos Personais\\Rappler\\Audio-Analysis\\data\\NEWNEW\\clean\\folis\\Drs on Tiktok\\https___www.tiktok.com__doccielo_video_7352756550492081413__r_1_u_code_0_preview_pb_0_sharer_language_en__d_ej213j77cm05kc_share_item_id_7352756550492081413_source_h5_m.mp3 ...\n",
      "Enhanced audio saved to C:\\Users\\Ebo\\Projetos Personais\\Rappler\\Audio-Analysis\\data\\NEWNEW\\clean\\folis\\Drs on Tiktok\\enhanced\\https___www.tiktok.com__doccielo_video_7352756550492081413__r_1_u_code_0_preview_pb_0_sharer_language_en__d_ej213j77cm05kc_share_item_id_7352756550492081413_source_h5_m.wav\n",
      "\n",
      "Processing C:\\Users\\Ebo\\Projetos Personais\\Rappler\\Audio-Analysis\\data\\NEWNEW\\clean\\folis\\Drs on Tiktok\\https___www.tiktok.com__docjollyobgyne_video_7219240717896469765__r_1_u_code_0_preview_pb_0_sharer_language_en__d_ej213jff43964m_share_item_id_7219240717896469765_source_h5_m.mp3 ...\n",
      "Enhanced audio saved to C:\\Users\\Ebo\\Projetos Personais\\Rappler\\Audio-Analysis\\data\\NEWNEW\\clean\\folis\\Drs on Tiktok\\enhanced\\https___www.tiktok.com__docjollyobgyne_video_7219240717896469765__r_1_u_code_0_preview_pb_0_sharer_language_en__d_ej213jff43964m_share_item_id_7219240717896469765_source_h5_m.wav\n",
      "\n",
      "Processing C:\\Users\\Ebo\\Projetos Personais\\Rappler\\Audio-Analysis\\data\\NEWNEW\\clean\\folis\\Drs on Tiktok\\https___www.tiktok.com__docjollyobgyne_video_7254461665482247430__r_1_u_code_0_preview_pb_0_sharer_language_en__d_ej213jff43964m_share_item_id_7254461665482247430_source_h5_m.mp3 ...\n",
      "Enhanced audio saved to C:\\Users\\Ebo\\Projetos Personais\\Rappler\\Audio-Analysis\\data\\NEWNEW\\clean\\folis\\Drs on Tiktok\\enhanced\\https___www.tiktok.com__docjollyobgyne_video_7254461665482247430__r_1_u_code_0_preview_pb_0_sharer_language_en__d_ej213jff43964m_share_item_id_7254461665482247430_source_h5_m.wav\n",
      "\n",
      "Processing C:\\Users\\Ebo\\Projetos Personais\\Rappler\\Audio-Analysis\\data\\NEWNEW\\clean\\folis\\Drs on Tiktok\\https___www.tiktok.com__docjollyobgyne_video_7284180743276825862__r_1_u_code_0_preview_pb_0_sharer_language_en__d_ej21410f5hm852_share_item_id_7284180743276825862_source_h5_m.mp3 ...\n",
      "Enhanced audio saved to C:\\Users\\Ebo\\Projetos Personais\\Rappler\\Audio-Analysis\\data\\NEWNEW\\clean\\folis\\Drs on Tiktok\\enhanced\\https___www.tiktok.com__docjollyobgyne_video_7284180743276825862__r_1_u_code_0_preview_pb_0_sharer_language_en__d_ej21410f5hm852_share_item_id_7284180743276825862_source_h5_m.wav\n",
      "\n",
      "Processing C:\\Users\\Ebo\\Projetos Personais\\Rappler\\Audio-Analysis\\data\\NEWNEW\\clean\\folis\\Drs on Tiktok\\https___www.tiktok.com__docjollyobgyne_video_7285273054391864582__r_1_u_code_0_preview_pb_0_sharer_language_en__d_ej2176ge6d1c8f_share_item_id_7285273054391864582_source_h5_m.mp3 ...\n",
      "Enhanced audio saved to C:\\Users\\Ebo\\Projetos Personais\\Rappler\\Audio-Analysis\\data\\NEWNEW\\clean\\folis\\Drs on Tiktok\\enhanced\\https___www.tiktok.com__docjollyobgyne_video_7285273054391864582__r_1_u_code_0_preview_pb_0_sharer_language_en__d_ej2176ge6d1c8f_share_item_id_7285273054391864582_source_h5_m.wav\n",
      "\n",
      "Processing C:\\Users\\Ebo\\Projetos Personais\\Rappler\\Audio-Analysis\\data\\NEWNEW\\clean\\folis\\Drs on Tiktok\\https___www.tiktok.com__dockilimanguru_video_7233680500949355778__r_1_u_code_0_preview_pb_0_sharer_language_en__d_ej20mjca3aec00_share_item_id_7233680500949355778_source_h5_m.mp3 ...\n",
      "Enhanced audio saved to C:\\Users\\Ebo\\Projetos Personais\\Rappler\\Audio-Analysis\\data\\NEWNEW\\clean\\folis\\Drs on Tiktok\\enhanced\\https___www.tiktok.com__dockilimanguru_video_7233680500949355778__r_1_u_code_0_preview_pb_0_sharer_language_en__d_ej20mjca3aec00_share_item_id_7233680500949355778_source_h5_m.wav\n",
      "\n",
      "Processing C:\\Users\\Ebo\\Projetos Personais\\Rappler\\Audio-Analysis\\data\\NEWNEW\\clean\\folis\\Drs on Tiktok\\https___www.tiktok.com__docsazzee_video_7347305257392786693__r_1_u_code_0_preview_pb_0_sharer_language_en__d_ej214008e729cf_share_item_id_7347305257392786693_source_h5_m.mp3 ...\n",
      "Enhanced audio saved to C:\\Users\\Ebo\\Projetos Personais\\Rappler\\Audio-Analysis\\data\\NEWNEW\\clean\\folis\\Drs on Tiktok\\enhanced\\https___www.tiktok.com__docsazzee_video_7347305257392786693__r_1_u_code_0_preview_pb_0_sharer_language_en__d_ej214008e729cf_share_item_id_7347305257392786693_source_h5_m.wav\n",
      "\n",
      "Processing C:\\Users\\Ebo\\Projetos Personais\\Rappler\\Audio-Analysis\\data\\NEWNEW\\clean\\folis\\Drs on Tiktok\\https___www.tiktok.com__docsheobgyn_video_7248532117611728134__r_1_u_code_0_preview_pb_0_sharer_language_en__d_ej2175i1b84i64_share_item_id_7248532117611728134_source_h5_m.mp3 ...\n",
      "Enhanced audio saved to C:\\Users\\Ebo\\Projetos Personais\\Rappler\\Audio-Analysis\\data\\NEWNEW\\clean\\folis\\Drs on Tiktok\\enhanced\\https___www.tiktok.com__docsheobgyn_video_7248532117611728134__r_1_u_code_0_preview_pb_0_sharer_language_en__d_ej2175i1b84i64_share_item_id_7248532117611728134_source_h5_m.wav\n",
      "\n",
      "Processing C:\\Users\\Ebo\\Projetos Personais\\Rappler\\Audio-Analysis\\data\\NEWNEW\\clean\\folis\\Drs on Tiktok\\https___www.tiktok.com__drkchalili_video_7405942275450096904__r_1_u_code_0_preview_pb_0_sharer_language_en__d_ej211k8ch6b2h8_share_item_id_7405942275450096904_source_h5_m.mp3 ...\n",
      "Enhanced audio saved to C:\\Users\\Ebo\\Projetos Personais\\Rappler\\Audio-Analysis\\data\\NEWNEW\\clean\\folis\\Drs on Tiktok\\enhanced\\https___www.tiktok.com__drkchalili_video_7405942275450096904__r_1_u_code_0_preview_pb_0_sharer_language_en__d_ej211k8ch6b2h8_share_item_id_7405942275450096904_source_h5_m.wav\n",
      "\n",
      "Processing C:\\Users\\Ebo\\Projetos Personais\\Rappler\\Audio-Analysis\\data\\NEWNEW\\clean\\folis\\Drs on Tiktok\\https___www.tiktok.com__drricacruz_video_7247043349213924614__r_1_u_code_0_preview_pb_0_sharer_language_en__d_ej211k8ch6b2h8_share_item_id_7247043349213924614_source_h5_m.mp3 ...\n",
      "Enhanced audio saved to C:\\Users\\Ebo\\Projetos Personais\\Rappler\\Audio-Analysis\\data\\NEWNEW\\clean\\folis\\Drs on Tiktok\\enhanced\\https___www.tiktok.com__drricacruz_video_7247043349213924614__r_1_u_code_0_preview_pb_0_sharer_language_en__d_ej211k8ch6b2h8_share_item_id_7247043349213924614_source_h5_m.wav\n",
      "\n",
      "Processing C:\\Users\\Ebo\\Projetos Personais\\Rappler\\Audio-Analysis\\data\\NEWNEW\\clean\\folis\\Drs on Tiktok\\https___www.tiktok.com__drricacruz_video_7264844124120009990__r_1_u_code_0_preview_pb_0_sharer_language_en__d_ej2116k0h0g1jk_share_item_id_7264844124120009990_source_h5_m.mp3 ...\n",
      "Enhanced audio saved to C:\\Users\\Ebo\\Projetos Personais\\Rappler\\Audio-Analysis\\data\\NEWNEW\\clean\\folis\\Drs on Tiktok\\enhanced\\https___www.tiktok.com__drricacruz_video_7264844124120009990__r_1_u_code_0_preview_pb_0_sharer_language_en__d_ej2116k0h0g1jk_share_item_id_7264844124120009990_source_h5_m.wav\n",
      "\n",
      "Processing C:\\Users\\Ebo\\Projetos Personais\\Rappler\\Audio-Analysis\\data\\NEWNEW\\clean\\folis\\Drs on Tiktok\\https___www.tiktok.com__drricacruz_video_7274149529895668998__r_1_u_code_0_preview_pb_0_sharer_language_en__d_ej211k8ch6b2h8_share_item_id_7274149529895668998_source_h5_m.mp3 ...\n",
      "Enhanced audio saved to C:\\Users\\Ebo\\Projetos Personais\\Rappler\\Audio-Analysis\\data\\NEWNEW\\clean\\folis\\Drs on Tiktok\\enhanced\\https___www.tiktok.com__drricacruz_video_7274149529895668998__r_1_u_code_0_preview_pb_0_sharer_language_en__d_ej211k8ch6b2h8_share_item_id_7274149529895668998_source_h5_m.wav\n",
      "\n",
      "Processing C:\\Users\\Ebo\\Projetos Personais\\Rappler\\Audio-Analysis\\data\\NEWNEW\\clean\\folis\\Drs on Tiktok\\https___www.tiktok.com__drricacruz_video_7281891941191568645__r_1_u_code_0_preview_pb_0_sharer_language_en__d_ej1gdjjlh4kmeb_share_item_id_7281891941191568645_source_h5_m.mp3 ...\n",
      "Enhanced audio saved to C:\\Users\\Ebo\\Projetos Personais\\Rappler\\Audio-Analysis\\data\\NEWNEW\\clean\\folis\\Drs on Tiktok\\enhanced\\https___www.tiktok.com__drricacruz_video_7281891941191568645__r_1_u_code_0_preview_pb_0_sharer_language_en__d_ej1gdjjlh4kmeb_share_item_id_7281891941191568645_source_h5_m.wav\n",
      "\n",
      "Processing C:\\Users\\Ebo\\Projetos Personais\\Rappler\\Audio-Analysis\\data\\NEWNEW\\clean\\folis\\Drs on Tiktok\\https___www.tiktok.com__drricacruz_video_7291314288319270149__r_1_u_code_0_preview_pb_0_sharer_language_en__d_ej0j3550b2jc56_share_item_id_7291314288319270149_source_h5_m.mp3 ...\n",
      "Enhanced audio saved to C:\\Users\\Ebo\\Projetos Personais\\Rappler\\Audio-Analysis\\data\\NEWNEW\\clean\\folis\\Drs on Tiktok\\enhanced\\https___www.tiktok.com__drricacruz_video_7291314288319270149__r_1_u_code_0_preview_pb_0_sharer_language_en__d_ej0j3550b2jc56_share_item_id_7291314288319270149_source_h5_m.wav\n",
      "\n",
      "Processing C:\\Users\\Ebo\\Projetos Personais\\Rappler\\Audio-Analysis\\data\\NEWNEW\\clean\\folis\\Drs on Tiktok\\https___www.tiktok.com__drricacruz_video_7298226659549826309__r_1_u_code_0_preview_pb_0_sharer_language_en__d_ej211k8ch6b2h8_share_item_id_7298226659549826309_source_h5_m.mp3 ...\n",
      "Enhanced audio saved to C:\\Users\\Ebo\\Projetos Personais\\Rappler\\Audio-Analysis\\data\\NEWNEW\\clean\\folis\\Drs on Tiktok\\enhanced\\https___www.tiktok.com__drricacruz_video_7298226659549826309__r_1_u_code_0_preview_pb_0_sharer_language_en__d_ej211k8ch6b2h8_share_item_id_7298226659549826309_source_h5_m.wav\n",
      "\n",
      "Processing C:\\Users\\Ebo\\Projetos Personais\\Rappler\\Audio-Analysis\\data\\NEWNEW\\clean\\folis\\Drs on Tiktok\\https___www.tiktok.com__dttbmj_video_7461964123115359506__r_1_u_code_0_preview_pb_0_sharer_language_en__d_ej20776f1hfjce_share_item_id_7461964123115359506_source_h5_m.mp3 ...\n",
      "Enhanced audio saved to C:\\Users\\Ebo\\Projetos Personais\\Rappler\\Audio-Analysis\\data\\NEWNEW\\clean\\folis\\Drs on Tiktok\\enhanced\\https___www.tiktok.com__dttbmj_video_7461964123115359506__r_1_u_code_0_preview_pb_0_sharer_language_en__d_ej20776f1hfjce_share_item_id_7461964123115359506_source_h5_m.wav\n",
      "\n",
      "Processing C:\\Users\\Ebo\\Projetos Personais\\Rappler\\Audio-Analysis\\data\\NEWNEW\\clean\\folis\\Drs on Tiktok\\https___www.tiktok.com__fertilitydoctor_video_7266828544804785414__r_1_u_code_0_preview_pb_0_sharer_language_en__d_ej2140h40e3ek2_share_item_id_7266828544804785414_source_h5_m.mp3 ...\n",
      "Enhanced audio saved to C:\\Users\\Ebo\\Projetos Personais\\Rappler\\Audio-Analysis\\data\\NEWNEW\\clean\\folis\\Drs on Tiktok\\enhanced\\https___www.tiktok.com__fertilitydoctor_video_7266828544804785414__r_1_u_code_0_preview_pb_0_sharer_language_en__d_ej2140h40e3ek2_share_item_id_7266828544804785414_source_h5_m.wav\n",
      "\n",
      "Processing C:\\Users\\Ebo\\Projetos Personais\\Rappler\\Audio-Analysis\\data\\NEWNEW\\clean\\folis\\Drs on Tiktok\\https___www.tiktok.com__fertilitydoctor_video_7284109160566852869__r_1_u_code_0_preview_pb_0_sharer_language_en__d_ej213id93ff9j1_share_item_id_7284109160566852869_source_h5_m.mp3 ...\n",
      "Enhanced audio saved to C:\\Users\\Ebo\\Projetos Personais\\Rappler\\Audio-Analysis\\data\\NEWNEW\\clean\\folis\\Drs on Tiktok\\enhanced\\https___www.tiktok.com__fertilitydoctor_video_7284109160566852869__r_1_u_code_0_preview_pb_0_sharer_language_en__d_ej213id93ff9j1_share_item_id_7284109160566852869_source_h5_m.wav\n",
      "\n",
      "Processing C:\\Users\\Ebo\\Projetos Personais\\Rappler\\Audio-Analysis\\data\\NEWNEW\\clean\\folis\\Drs on Tiktok\\waved ...\n",
      "Error processing C:\\Users\\Ebo\\Projetos Personais\\Rappler\\Audio-Analysis\\data\\NEWNEW\\clean\\folis\\Drs on Tiktok\\waved: [Errno 13] Permission denied: 'C:\\\\Users\\\\Ebo\\\\Projetos Personais\\\\Rappler\\\\Audio-Analysis\\\\data\\\\NEWNEW\\\\clean\\\\folis\\\\Drs on Tiktok\\\\waved'\n",
      "Processing C:\\Users\\Ebo\\Projetos Personais\\Rappler\\Audio-Analysis\\data\\NEWNEW\\clean\\folis\\Drs on Tiktok\\enhanced ...\n",
      "Error processing C:\\Users\\Ebo\\Projetos Personais\\Rappler\\Audio-Analysis\\data\\NEWNEW\\clean\\folis\\Drs on Tiktok\\enhanced: [Errno 13] Permission denied: 'C:\\\\Users\\\\Ebo\\\\Projetos Personais\\\\Rappler\\\\Audio-Analysis\\\\data\\\\NEWNEW\\\\clean\\\\folis\\\\Drs on Tiktok\\\\enhanced'\n",
      "Processing C:\\Users\\Ebo\\Projetos Personais\\Rappler\\Audio-Analysis\\data\\NEWNEW\\clean\\folis\\Drs on Tiktok\\https___www.tiktok.com__docanneramosobgyn_video_7268207773727329542__r_1_u_code_0_preview_pb_0_sharer_language_en__d_ej21410f5hm852_share_item_id_7268207773727329542_source_h5_m.mp3 ...\n",
      "Converted audio saved to C:\\Users\\Ebo\\Projetos Personais\\Rappler\\Audio-Analysis\\data\\NEWNEW\\clean\\folis\\Drs on Tiktok\\waved\\https___www.tiktok.com__docanneramosobgyn_video_7268207773727329542__r_1_u_code_0_preview_pb_0_sharer_language_en__d_ej21410f5hm852_share_item_id_7268207773727329542_source_h5_m.wav\n",
      "\n",
      "Processing C:\\Users\\Ebo\\Projetos Personais\\Rappler\\Audio-Analysis\\data\\NEWNEW\\clean\\folis\\Drs on Tiktok\\https___www.tiktok.com__docanneramosobgyn_video_7449707549403696385__r_1_u_code_0_preview_pb_0_sharer_language_en__d_ej2140h40bk2mc_share_item_id_7449707549403696385_source_h5_m.mp3 ...\n",
      "Converted audio saved to C:\\Users\\Ebo\\Projetos Personais\\Rappler\\Audio-Analysis\\data\\NEWNEW\\clean\\folis\\Drs on Tiktok\\waved\\https___www.tiktok.com__docanneramosobgyn_video_7449707549403696385__r_1_u_code_0_preview_pb_0_sharer_language_en__d_ej2140h40bk2mc_share_item_id_7449707549403696385_source_h5_m.wav\n",
      "\n",
      "Processing C:\\Users\\Ebo\\Projetos Personais\\Rappler\\Audio-Analysis\\data\\NEWNEW\\clean\\folis\\Drs on Tiktok\\https___www.tiktok.com__docanneramosobgyn_video_7457836356845309191__r_1_u_code_0_preview_pb_0_sharer_language_en__d_ej217dklba7df9_share_item_id_7457836356845309191_source_h5_m.mp3 ...\n",
      "Converted audio saved to C:\\Users\\Ebo\\Projetos Personais\\Rappler\\Audio-Analysis\\data\\NEWNEW\\clean\\folis\\Drs on Tiktok\\waved\\https___www.tiktok.com__docanneramosobgyn_video_7457836356845309191__r_1_u_code_0_preview_pb_0_sharer_language_en__d_ej217dklba7df9_share_item_id_7457836356845309191_source_h5_m.wav\n",
      "\n",
      "Processing C:\\Users\\Ebo\\Projetos Personais\\Rappler\\Audio-Analysis\\data\\NEWNEW\\clean\\folis\\Drs on Tiktok\\https___www.tiktok.com__doccielo_video_7352756550492081413__r_1_u_code_0_preview_pb_0_sharer_language_en__d_ej213j77cm05kc_share_item_id_7352756550492081413_source_h5_m.mp3 ...\n",
      "Converted audio saved to C:\\Users\\Ebo\\Projetos Personais\\Rappler\\Audio-Analysis\\data\\NEWNEW\\clean\\folis\\Drs on Tiktok\\waved\\https___www.tiktok.com__doccielo_video_7352756550492081413__r_1_u_code_0_preview_pb_0_sharer_language_en__d_ej213j77cm05kc_share_item_id_7352756550492081413_source_h5_m.wav\n",
      "\n",
      "Processing C:\\Users\\Ebo\\Projetos Personais\\Rappler\\Audio-Analysis\\data\\NEWNEW\\clean\\folis\\Drs on Tiktok\\https___www.tiktok.com__docjollyobgyne_video_7219240717896469765__r_1_u_code_0_preview_pb_0_sharer_language_en__d_ej213jff43964m_share_item_id_7219240717896469765_source_h5_m.mp3 ...\n",
      "Converted audio saved to C:\\Users\\Ebo\\Projetos Personais\\Rappler\\Audio-Analysis\\data\\NEWNEW\\clean\\folis\\Drs on Tiktok\\waved\\https___www.tiktok.com__docjollyobgyne_video_7219240717896469765__r_1_u_code_0_preview_pb_0_sharer_language_en__d_ej213jff43964m_share_item_id_7219240717896469765_source_h5_m.wav\n",
      "\n",
      "Processing C:\\Users\\Ebo\\Projetos Personais\\Rappler\\Audio-Analysis\\data\\NEWNEW\\clean\\folis\\Drs on Tiktok\\https___www.tiktok.com__docjollyobgyne_video_7254461665482247430__r_1_u_code_0_preview_pb_0_sharer_language_en__d_ej213jff43964m_share_item_id_7254461665482247430_source_h5_m.mp3 ...\n",
      "Converted audio saved to C:\\Users\\Ebo\\Projetos Personais\\Rappler\\Audio-Analysis\\data\\NEWNEW\\clean\\folis\\Drs on Tiktok\\waved\\https___www.tiktok.com__docjollyobgyne_video_7254461665482247430__r_1_u_code_0_preview_pb_0_sharer_language_en__d_ej213jff43964m_share_item_id_7254461665482247430_source_h5_m.wav\n",
      "\n",
      "Processing C:\\Users\\Ebo\\Projetos Personais\\Rappler\\Audio-Analysis\\data\\NEWNEW\\clean\\folis\\Drs on Tiktok\\https___www.tiktok.com__docjollyobgyne_video_7284180743276825862__r_1_u_code_0_preview_pb_0_sharer_language_en__d_ej21410f5hm852_share_item_id_7284180743276825862_source_h5_m.mp3 ...\n",
      "Converted audio saved to C:\\Users\\Ebo\\Projetos Personais\\Rappler\\Audio-Analysis\\data\\NEWNEW\\clean\\folis\\Drs on Tiktok\\waved\\https___www.tiktok.com__docjollyobgyne_video_7284180743276825862__r_1_u_code_0_preview_pb_0_sharer_language_en__d_ej21410f5hm852_share_item_id_7284180743276825862_source_h5_m.wav\n",
      "\n",
      "Processing C:\\Users\\Ebo\\Projetos Personais\\Rappler\\Audio-Analysis\\data\\NEWNEW\\clean\\folis\\Drs on Tiktok\\https___www.tiktok.com__docjollyobgyne_video_7285273054391864582__r_1_u_code_0_preview_pb_0_sharer_language_en__d_ej2176ge6d1c8f_share_item_id_7285273054391864582_source_h5_m.mp3 ...\n",
      "Converted audio saved to C:\\Users\\Ebo\\Projetos Personais\\Rappler\\Audio-Analysis\\data\\NEWNEW\\clean\\folis\\Drs on Tiktok\\waved\\https___www.tiktok.com__docjollyobgyne_video_7285273054391864582__r_1_u_code_0_preview_pb_0_sharer_language_en__d_ej2176ge6d1c8f_share_item_id_7285273054391864582_source_h5_m.wav\n",
      "\n",
      "Processing C:\\Users\\Ebo\\Projetos Personais\\Rappler\\Audio-Analysis\\data\\NEWNEW\\clean\\folis\\Drs on Tiktok\\https___www.tiktok.com__dockilimanguru_video_7233680500949355778__r_1_u_code_0_preview_pb_0_sharer_language_en__d_ej20mjca3aec00_share_item_id_7233680500949355778_source_h5_m.mp3 ...\n",
      "Converted audio saved to C:\\Users\\Ebo\\Projetos Personais\\Rappler\\Audio-Analysis\\data\\NEWNEW\\clean\\folis\\Drs on Tiktok\\waved\\https___www.tiktok.com__dockilimanguru_video_7233680500949355778__r_1_u_code_0_preview_pb_0_sharer_language_en__d_ej20mjca3aec00_share_item_id_7233680500949355778_source_h5_m.wav\n",
      "\n",
      "Processing C:\\Users\\Ebo\\Projetos Personais\\Rappler\\Audio-Analysis\\data\\NEWNEW\\clean\\folis\\Drs on Tiktok\\https___www.tiktok.com__docsazzee_video_7347305257392786693__r_1_u_code_0_preview_pb_0_sharer_language_en__d_ej214008e729cf_share_item_id_7347305257392786693_source_h5_m.mp3 ...\n",
      "Converted audio saved to C:\\Users\\Ebo\\Projetos Personais\\Rappler\\Audio-Analysis\\data\\NEWNEW\\clean\\folis\\Drs on Tiktok\\waved\\https___www.tiktok.com__docsazzee_video_7347305257392786693__r_1_u_code_0_preview_pb_0_sharer_language_en__d_ej214008e729cf_share_item_id_7347305257392786693_source_h5_m.wav\n",
      "\n",
      "Processing C:\\Users\\Ebo\\Projetos Personais\\Rappler\\Audio-Analysis\\data\\NEWNEW\\clean\\folis\\Drs on Tiktok\\https___www.tiktok.com__docsheobgyn_video_7248532117611728134__r_1_u_code_0_preview_pb_0_sharer_language_en__d_ej2175i1b84i64_share_item_id_7248532117611728134_source_h5_m.mp3 ...\n",
      "Converted audio saved to C:\\Users\\Ebo\\Projetos Personais\\Rappler\\Audio-Analysis\\data\\NEWNEW\\clean\\folis\\Drs on Tiktok\\waved\\https___www.tiktok.com__docsheobgyn_video_7248532117611728134__r_1_u_code_0_preview_pb_0_sharer_language_en__d_ej2175i1b84i64_share_item_id_7248532117611728134_source_h5_m.wav\n",
      "\n",
      "Processing C:\\Users\\Ebo\\Projetos Personais\\Rappler\\Audio-Analysis\\data\\NEWNEW\\clean\\folis\\Drs on Tiktok\\https___www.tiktok.com__drkchalili_video_7405942275450096904__r_1_u_code_0_preview_pb_0_sharer_language_en__d_ej211k8ch6b2h8_share_item_id_7405942275450096904_source_h5_m.mp3 ...\n",
      "Converted audio saved to C:\\Users\\Ebo\\Projetos Personais\\Rappler\\Audio-Analysis\\data\\NEWNEW\\clean\\folis\\Drs on Tiktok\\waved\\https___www.tiktok.com__drkchalili_video_7405942275450096904__r_1_u_code_0_preview_pb_0_sharer_language_en__d_ej211k8ch6b2h8_share_item_id_7405942275450096904_source_h5_m.wav\n",
      "\n",
      "Processing C:\\Users\\Ebo\\Projetos Personais\\Rappler\\Audio-Analysis\\data\\NEWNEW\\clean\\folis\\Drs on Tiktok\\https___www.tiktok.com__drricacruz_video_7247043349213924614__r_1_u_code_0_preview_pb_0_sharer_language_en__d_ej211k8ch6b2h8_share_item_id_7247043349213924614_source_h5_m.mp3 ...\n",
      "Converted audio saved to C:\\Users\\Ebo\\Projetos Personais\\Rappler\\Audio-Analysis\\data\\NEWNEW\\clean\\folis\\Drs on Tiktok\\waved\\https___www.tiktok.com__drricacruz_video_7247043349213924614__r_1_u_code_0_preview_pb_0_sharer_language_en__d_ej211k8ch6b2h8_share_item_id_7247043349213924614_source_h5_m.wav\n",
      "\n",
      "Processing C:\\Users\\Ebo\\Projetos Personais\\Rappler\\Audio-Analysis\\data\\NEWNEW\\clean\\folis\\Drs on Tiktok\\https___www.tiktok.com__drricacruz_video_7264844124120009990__r_1_u_code_0_preview_pb_0_sharer_language_en__d_ej2116k0h0g1jk_share_item_id_7264844124120009990_source_h5_m.mp3 ...\n",
      "Converted audio saved to C:\\Users\\Ebo\\Projetos Personais\\Rappler\\Audio-Analysis\\data\\NEWNEW\\clean\\folis\\Drs on Tiktok\\waved\\https___www.tiktok.com__drricacruz_video_7264844124120009990__r_1_u_code_0_preview_pb_0_sharer_language_en__d_ej2116k0h0g1jk_share_item_id_7264844124120009990_source_h5_m.wav\n",
      "\n",
      "Processing C:\\Users\\Ebo\\Projetos Personais\\Rappler\\Audio-Analysis\\data\\NEWNEW\\clean\\folis\\Drs on Tiktok\\https___www.tiktok.com__drricacruz_video_7274149529895668998__r_1_u_code_0_preview_pb_0_sharer_language_en__d_ej211k8ch6b2h8_share_item_id_7274149529895668998_source_h5_m.mp3 ...\n",
      "Converted audio saved to C:\\Users\\Ebo\\Projetos Personais\\Rappler\\Audio-Analysis\\data\\NEWNEW\\clean\\folis\\Drs on Tiktok\\waved\\https___www.tiktok.com__drricacruz_video_7274149529895668998__r_1_u_code_0_preview_pb_0_sharer_language_en__d_ej211k8ch6b2h8_share_item_id_7274149529895668998_source_h5_m.wav\n",
      "\n",
      "Processing C:\\Users\\Ebo\\Projetos Personais\\Rappler\\Audio-Analysis\\data\\NEWNEW\\clean\\folis\\Drs on Tiktok\\https___www.tiktok.com__drricacruz_video_7281891941191568645__r_1_u_code_0_preview_pb_0_sharer_language_en__d_ej1gdjjlh4kmeb_share_item_id_7281891941191568645_source_h5_m.mp3 ...\n",
      "Converted audio saved to C:\\Users\\Ebo\\Projetos Personais\\Rappler\\Audio-Analysis\\data\\NEWNEW\\clean\\folis\\Drs on Tiktok\\waved\\https___www.tiktok.com__drricacruz_video_7281891941191568645__r_1_u_code_0_preview_pb_0_sharer_language_en__d_ej1gdjjlh4kmeb_share_item_id_7281891941191568645_source_h5_m.wav\n",
      "\n",
      "Processing C:\\Users\\Ebo\\Projetos Personais\\Rappler\\Audio-Analysis\\data\\NEWNEW\\clean\\folis\\Drs on Tiktok\\https___www.tiktok.com__drricacruz_video_7291314288319270149__r_1_u_code_0_preview_pb_0_sharer_language_en__d_ej0j3550b2jc56_share_item_id_7291314288319270149_source_h5_m.mp3 ...\n",
      "Converted audio saved to C:\\Users\\Ebo\\Projetos Personais\\Rappler\\Audio-Analysis\\data\\NEWNEW\\clean\\folis\\Drs on Tiktok\\waved\\https___www.tiktok.com__drricacruz_video_7291314288319270149__r_1_u_code_0_preview_pb_0_sharer_language_en__d_ej0j3550b2jc56_share_item_id_7291314288319270149_source_h5_m.wav\n",
      "\n",
      "Processing C:\\Users\\Ebo\\Projetos Personais\\Rappler\\Audio-Analysis\\data\\NEWNEW\\clean\\folis\\Drs on Tiktok\\https___www.tiktok.com__drricacruz_video_7298226659549826309__r_1_u_code_0_preview_pb_0_sharer_language_en__d_ej211k8ch6b2h8_share_item_id_7298226659549826309_source_h5_m.mp3 ...\n",
      "Converted audio saved to C:\\Users\\Ebo\\Projetos Personais\\Rappler\\Audio-Analysis\\data\\NEWNEW\\clean\\folis\\Drs on Tiktok\\waved\\https___www.tiktok.com__drricacruz_video_7298226659549826309__r_1_u_code_0_preview_pb_0_sharer_language_en__d_ej211k8ch6b2h8_share_item_id_7298226659549826309_source_h5_m.wav\n",
      "\n",
      "Processing C:\\Users\\Ebo\\Projetos Personais\\Rappler\\Audio-Analysis\\data\\NEWNEW\\clean\\folis\\Drs on Tiktok\\https___www.tiktok.com__dttbmj_video_7461964123115359506__r_1_u_code_0_preview_pb_0_sharer_language_en__d_ej20776f1hfjce_share_item_id_7461964123115359506_source_h5_m.mp3 ...\n",
      "Converted audio saved to C:\\Users\\Ebo\\Projetos Personais\\Rappler\\Audio-Analysis\\data\\NEWNEW\\clean\\folis\\Drs on Tiktok\\waved\\https___www.tiktok.com__dttbmj_video_7461964123115359506__r_1_u_code_0_preview_pb_0_sharer_language_en__d_ej20776f1hfjce_share_item_id_7461964123115359506_source_h5_m.wav\n",
      "\n",
      "Processing C:\\Users\\Ebo\\Projetos Personais\\Rappler\\Audio-Analysis\\data\\NEWNEW\\clean\\folis\\Drs on Tiktok\\https___www.tiktok.com__fertilitydoctor_video_7266828544804785414__r_1_u_code_0_preview_pb_0_sharer_language_en__d_ej2140h40e3ek2_share_item_id_7266828544804785414_source_h5_m.mp3 ...\n",
      "Converted audio saved to C:\\Users\\Ebo\\Projetos Personais\\Rappler\\Audio-Analysis\\data\\NEWNEW\\clean\\folis\\Drs on Tiktok\\waved\\https___www.tiktok.com__fertilitydoctor_video_7266828544804785414__r_1_u_code_0_preview_pb_0_sharer_language_en__d_ej2140h40e3ek2_share_item_id_7266828544804785414_source_h5_m.wav\n",
      "\n",
      "Processing C:\\Users\\Ebo\\Projetos Personais\\Rappler\\Audio-Analysis\\data\\NEWNEW\\clean\\folis\\Drs on Tiktok\\https___www.tiktok.com__fertilitydoctor_video_7284109160566852869__r_1_u_code_0_preview_pb_0_sharer_language_en__d_ej213id93ff9j1_share_item_id_7284109160566852869_source_h5_m.mp3 ...\n",
      "Converted audio saved to C:\\Users\\Ebo\\Projetos Personais\\Rappler\\Audio-Analysis\\data\\NEWNEW\\clean\\folis\\Drs on Tiktok\\waved\\https___www.tiktok.com__fertilitydoctor_video_7284109160566852869__r_1_u_code_0_preview_pb_0_sharer_language_en__d_ej213id93ff9j1_share_item_id_7284109160566852869_source_h5_m.wav\n",
      "\n",
      "Processing C:\\Users\\Ebo\\Projetos Personais\\Rappler\\Audio-Analysis\\data\\NEWNEW\\clean\\folis\\Drs on Tiktok\\waved ...\n",
      "Error processing C:\\Users\\Ebo\\Projetos Personais\\Rappler\\Audio-Analysis\\data\\NEWNEW\\clean\\folis\\Drs on Tiktok\\waved: [Errno 13] Permission denied: 'C:\\\\Users\\\\Ebo\\\\Projetos Personais\\\\Rappler\\\\Audio-Analysis\\\\data\\\\NEWNEW\\\\clean\\\\folis\\\\Drs on Tiktok\\\\waved'\n",
      "\u001b[32m2025-03-01 20:48:03\u001b[0m | \u001b[1mINFO    \u001b[0m | \u001b[36mDF\u001b[0m | \u001b[1mLoading model settings of DeepFilterNet3\u001b[0m\n",
      "\u001b[32m2025-03-01 20:48:03\u001b[0m | \u001b[1mINFO    \u001b[0m | \u001b[36mDF\u001b[0m | \u001b[1mUsing DeepFilterNet3 model at C:\\Users\\Ebo\\AppData\\Local\\DeepFilterNet\\DeepFilterNet\\Cache\\DeepFilterNet3\u001b[0m\n",
      "\u001b[32m2025-03-01 20:48:03\u001b[0m | \u001b[1mINFO    \u001b[0m | \u001b[36mDF\u001b[0m | \u001b[1mInitializing model `deepfilternet3`\u001b[0m\n",
      "\u001b[32m2025-03-01 20:48:03\u001b[0m | \u001b[1mINFO    \u001b[0m | \u001b[36mDF\u001b[0m | \u001b[1mFound checkpoint C:\\Users\\Ebo\\AppData\\Local\\DeepFilterNet\\DeepFilterNet\\Cache\\DeepFilterNet3\\checkpoints\\model_120.ckpt.best with epoch 120\u001b[0m\n",
      "\u001b[32m2025-03-01 20:48:03\u001b[0m | \u001b[1mINFO    \u001b[0m | \u001b[36mDF\u001b[0m | \u001b[1mRunning on device cuda:0\u001b[0m\n",
      "\u001b[32m2025-03-01 20:48:03\u001b[0m | \u001b[1mINFO    \u001b[0m | \u001b[36mDF\u001b[0m | \u001b[1mModel loaded\u001b[0m\n",
      "Processing C:\\Users\\Ebo\\Projetos Personais\\Rappler\\Audio-Analysis\\data\\NEWNEW\\clean\\folis\\Legals\\enhanced ...\n",
      "Error processing C:\\Users\\Ebo\\Projetos Personais\\Rappler\\Audio-Analysis\\data\\NEWNEW\\clean\\folis\\Legals\\enhanced: [Errno 13] Permission denied: 'C:\\\\Users\\\\Ebo\\\\Projetos Personais\\\\Rappler\\\\Audio-Analysis\\\\data\\\\NEWNEW\\\\clean\\\\folis\\\\Legals\\\\enhanced'\n",
      "Processing C:\\Users\\Ebo\\Projetos Personais\\Rappler\\Audio-Analysis\\data\\NEWNEW\\clean\\folis\\Legals\\https___www.tiktok.com__attytonyroman_video_7369082234495569158__r_1_u_code_0_preview_pb_0_sharer_language_en__d_ej217diged981h_share_item_id_7369082234495569158_source_h5_m.mp3 ...\n",
      "Enhanced audio saved to C:\\Users\\Ebo\\Projetos Personais\\Rappler\\Audio-Analysis\\data\\NEWNEW\\clean\\folis\\Legals\\enhanced\\https___www.tiktok.com__attytonyroman_video_7369082234495569158__r_1_u_code_0_preview_pb_0_sharer_language_en__d_ej217diged981h_share_item_id_7369082234495569158_source_h5_m.wav\n",
      "\n",
      "Processing C:\\Users\\Ebo\\Projetos Personais\\Rappler\\Audio-Analysis\\data\\NEWNEW\\clean\\folis\\Legals\\waved ...\n",
      "Error processing C:\\Users\\Ebo\\Projetos Personais\\Rappler\\Audio-Analysis\\data\\NEWNEW\\clean\\folis\\Legals\\waved: [Errno 13] Permission denied: 'C:\\\\Users\\\\Ebo\\\\Projetos Personais\\\\Rappler\\\\Audio-Analysis\\\\data\\\\NEWNEW\\\\clean\\\\folis\\\\Legals\\\\waved'\n",
      "Processing C:\\Users\\Ebo\\Projetos Personais\\Rappler\\Audio-Analysis\\data\\NEWNEW\\clean\\folis\\Legals\\enhanced ...\n",
      "Error processing C:\\Users\\Ebo\\Projetos Personais\\Rappler\\Audio-Analysis\\data\\NEWNEW\\clean\\folis\\Legals\\enhanced: [Errno 13] Permission denied: 'C:\\\\Users\\\\Ebo\\\\Projetos Personais\\\\Rappler\\\\Audio-Analysis\\\\data\\\\NEWNEW\\\\clean\\\\folis\\\\Legals\\\\enhanced'\n",
      "Processing C:\\Users\\Ebo\\Projetos Personais\\Rappler\\Audio-Analysis\\data\\NEWNEW\\clean\\folis\\Legals\\https___www.tiktok.com__attytonyroman_video_7369082234495569158__r_1_u_code_0_preview_pb_0_sharer_language_en__d_ej217diged981h_share_item_id_7369082234495569158_source_h5_m.mp3 ...\n",
      "Converted audio saved to C:\\Users\\Ebo\\Projetos Personais\\Rappler\\Audio-Analysis\\data\\NEWNEW\\clean\\folis\\Legals\\waved\\https___www.tiktok.com__attytonyroman_video_7369082234495569158__r_1_u_code_0_preview_pb_0_sharer_language_en__d_ej217diged981h_share_item_id_7369082234495569158_source_h5_m.wav\n",
      "\n",
      "Processing C:\\Users\\Ebo\\Projetos Personais\\Rappler\\Audio-Analysis\\data\\NEWNEW\\clean\\folis\\Legals\\waved ...\n",
      "Error processing C:\\Users\\Ebo\\Projetos Personais\\Rappler\\Audio-Analysis\\data\\NEWNEW\\clean\\folis\\Legals\\waved: [Errno 13] Permission denied: 'C:\\\\Users\\\\Ebo\\\\Projetos Personais\\\\Rappler\\\\Audio-Analysis\\\\data\\\\NEWNEW\\\\clean\\\\folis\\\\Legals\\\\waved'\n",
      "\u001b[32m2025-03-01 20:48:06\u001b[0m | \u001b[1mINFO    \u001b[0m | \u001b[36mDF\u001b[0m | \u001b[1mLoading model settings of DeepFilterNet3\u001b[0m\n",
      "\u001b[32m2025-03-01 20:48:06\u001b[0m | \u001b[1mINFO    \u001b[0m | \u001b[36mDF\u001b[0m | \u001b[1mUsing DeepFilterNet3 model at C:\\Users\\Ebo\\AppData\\Local\\DeepFilterNet\\DeepFilterNet\\Cache\\DeepFilterNet3\u001b[0m\n",
      "\u001b[32m2025-03-01 20:48:06\u001b[0m | \u001b[1mINFO    \u001b[0m | \u001b[36mDF\u001b[0m | \u001b[1mInitializing model `deepfilternet3`\u001b[0m\n",
      "\u001b[32m2025-03-01 20:48:06\u001b[0m | \u001b[1mINFO    \u001b[0m | \u001b[36mDF\u001b[0m | \u001b[1mFound checkpoint C:\\Users\\Ebo\\AppData\\Local\\DeepFilterNet\\DeepFilterNet\\Cache\\DeepFilterNet3\\checkpoints\\model_120.ckpt.best with epoch 120\u001b[0m\n",
      "\u001b[32m2025-03-01 20:48:07\u001b[0m | \u001b[1mINFO    \u001b[0m | \u001b[36mDF\u001b[0m | \u001b[1mRunning on device cuda:0\u001b[0m\n",
      "\u001b[32m2025-03-01 20:48:07\u001b[0m | \u001b[1mINFO    \u001b[0m | \u001b[36mDF\u001b[0m | \u001b[1mModel loaded\u001b[0m\n",
      "Processing C:\\Users\\Ebo\\Projetos Personais\\Rappler\\Audio-Analysis\\data\\NEWNEW\\clean\\folis\\News\\enhanced ...\n",
      "Error processing C:\\Users\\Ebo\\Projetos Personais\\Rappler\\Audio-Analysis\\data\\NEWNEW\\clean\\folis\\News\\enhanced: [Errno 13] Permission denied: 'C:\\\\Users\\\\Ebo\\\\Projetos Personais\\\\Rappler\\\\Audio-Analysis\\\\data\\\\NEWNEW\\\\clean\\\\folis\\\\News\\\\enhanced'\n",
      "Processing C:\\Users\\Ebo\\Projetos Personais\\Rappler\\Audio-Analysis\\data\\NEWNEW\\clean\\folis\\News\\https___www.tiktok.com__bannerph_video_7460890685806365970__r_1_u_code_0_preview_pb_0_sharer_language_en__d_ej08khg6c3l8d1_share_item_id_7460890685806365970_source_h5_m.mp3 ...\n",
      "Enhanced audio saved to C:\\Users\\Ebo\\Projetos Personais\\Rappler\\Audio-Analysis\\data\\NEWNEW\\clean\\folis\\News\\enhanced\\https___www.tiktok.com__bannerph_video_7460890685806365970__r_1_u_code_0_preview_pb_0_sharer_language_en__d_ej08khg6c3l8d1_share_item_id_7460890685806365970_source_h5_m.wav\n",
      "\n",
      "Processing C:\\Users\\Ebo\\Projetos Personais\\Rappler\\Audio-Analysis\\data\\NEWNEW\\clean\\folis\\News\\waved ...\n",
      "Error processing C:\\Users\\Ebo\\Projetos Personais\\Rappler\\Audio-Analysis\\data\\NEWNEW\\clean\\folis\\News\\waved: [Errno 13] Permission denied: 'C:\\\\Users\\\\Ebo\\\\Projetos Personais\\\\Rappler\\\\Audio-Analysis\\\\data\\\\NEWNEW\\\\clean\\\\folis\\\\News\\\\waved'\n",
      "Processing C:\\Users\\Ebo\\Projetos Personais\\Rappler\\Audio-Analysis\\data\\NEWNEW\\clean\\folis\\News\\enhanced ...\n",
      "Error processing C:\\Users\\Ebo\\Projetos Personais\\Rappler\\Audio-Analysis\\data\\NEWNEW\\clean\\folis\\News\\enhanced: [Errno 13] Permission denied: 'C:\\\\Users\\\\Ebo\\\\Projetos Personais\\\\Rappler\\\\Audio-Analysis\\\\data\\\\NEWNEW\\\\clean\\\\folis\\\\News\\\\enhanced'\n",
      "Processing C:\\Users\\Ebo\\Projetos Personais\\Rappler\\Audio-Analysis\\data\\NEWNEW\\clean\\folis\\News\\https___www.tiktok.com__bannerph_video_7460890685806365970__r_1_u_code_0_preview_pb_0_sharer_language_en__d_ej08khg6c3l8d1_share_item_id_7460890685806365970_source_h5_m.mp3 ...\n",
      "Converted audio saved to C:\\Users\\Ebo\\Projetos Personais\\Rappler\\Audio-Analysis\\data\\NEWNEW\\clean\\folis\\News\\waved\\https___www.tiktok.com__bannerph_video_7460890685806365970__r_1_u_code_0_preview_pb_0_sharer_language_en__d_ej08khg6c3l8d1_share_item_id_7460890685806365970_source_h5_m.wav\n",
      "\n",
      "Processing C:\\Users\\Ebo\\Projetos Personais\\Rappler\\Audio-Analysis\\data\\NEWNEW\\clean\\folis\\News\\waved ...\n",
      "Error processing C:\\Users\\Ebo\\Projetos Personais\\Rappler\\Audio-Analysis\\data\\NEWNEW\\clean\\folis\\News\\waved: [Errno 13] Permission denied: 'C:\\\\Users\\\\Ebo\\\\Projetos Personais\\\\Rappler\\\\Audio-Analysis\\\\data\\\\NEWNEW\\\\clean\\\\folis\\\\News\\\\waved'\n",
      "\u001b[32m2025-03-01 20:48:09\u001b[0m | \u001b[1mINFO    \u001b[0m | \u001b[36mDF\u001b[0m | \u001b[1mLoading model settings of DeepFilterNet3\u001b[0m\n",
      "\u001b[32m2025-03-01 20:48:09\u001b[0m | \u001b[1mINFO    \u001b[0m | \u001b[36mDF\u001b[0m | \u001b[1mUsing DeepFilterNet3 model at C:\\Users\\Ebo\\AppData\\Local\\DeepFilterNet\\DeepFilterNet\\Cache\\DeepFilterNet3\u001b[0m\n",
      "\u001b[32m2025-03-01 20:48:09\u001b[0m | \u001b[1mINFO    \u001b[0m | \u001b[36mDF\u001b[0m | \u001b[1mInitializing model `deepfilternet3`\u001b[0m\n",
      "\u001b[32m2025-03-01 20:48:09\u001b[0m | \u001b[1mINFO    \u001b[0m | \u001b[36mDF\u001b[0m | \u001b[1mFound checkpoint C:\\Users\\Ebo\\AppData\\Local\\DeepFilterNet\\DeepFilterNet\\Cache\\DeepFilterNet3\\checkpoints\\model_120.ckpt.best with epoch 120\u001b[0m\n",
      "\u001b[32m2025-03-01 20:48:09\u001b[0m | \u001b[1mINFO    \u001b[0m | \u001b[36mDF\u001b[0m | \u001b[1mRunning on device cuda:0\u001b[0m\n",
      "\u001b[32m2025-03-01 20:48:09\u001b[0m | \u001b[1mINFO    \u001b[0m | \u001b[36mDF\u001b[0m | \u001b[1mModel loaded\u001b[0m\n",
      "Processing C:\\Users\\Ebo\\Projetos Personais\\Rappler\\Audio-Analysis\\data\\NEWNEW\\clean\\folis\\Opinions\\enhanced ...\n",
      "Error processing C:\\Users\\Ebo\\Projetos Personais\\Rappler\\Audio-Analysis\\data\\NEWNEW\\clean\\folis\\Opinions\\enhanced: [Errno 13] Permission denied: 'C:\\\\Users\\\\Ebo\\\\Projetos Personais\\\\Rappler\\\\Audio-Analysis\\\\data\\\\NEWNEW\\\\clean\\\\folis\\\\Opinions\\\\enhanced'\n",
      "Processing C:\\Users\\Ebo\\Projetos Personais\\Rappler\\Audio-Analysis\\data\\NEWNEW\\clean\\folis\\Opinions\\https___www.tiktok.com__gabe.talks_video_7436393589573193015__r_1_u_code_0_preview_pb_0_sharer_language_en__d_ej212k2idl491c_share_item_id_7436393589573193015_source_h5_m.mp3 ...\n",
      "Enhanced audio saved to C:\\Users\\Ebo\\Projetos Personais\\Rappler\\Audio-Analysis\\data\\NEWNEW\\clean\\folis\\Opinions\\enhanced\\https___www.tiktok.com__gabe.talks_video_7436393589573193015__r_1_u_code_0_preview_pb_0_sharer_language_en__d_ej212k2idl491c_share_item_id_7436393589573193015_source_h5_m.wav\n",
      "\n",
      "Processing C:\\Users\\Ebo\\Projetos Personais\\Rappler\\Audio-Analysis\\data\\NEWNEW\\clean\\folis\\Opinions\\https___www.tiktok.com__nikkacg_video_7356576267015146758__r_1_u_code_0_preview_pb_0_sharer_language_en__d_ej2175i1b84i64_share_item_id_7356576267015146758_source_h5_m.mp3 ...\n",
      "Enhanced audio saved to C:\\Users\\Ebo\\Projetos Personais\\Rappler\\Audio-Analysis\\data\\NEWNEW\\clean\\folis\\Opinions\\enhanced\\https___www.tiktok.com__nikkacg_video_7356576267015146758__r_1_u_code_0_preview_pb_0_sharer_language_en__d_ej2175i1b84i64_share_item_id_7356576267015146758_source_h5_m.wav\n",
      "\n",
      "Processing C:\\Users\\Ebo\\Projetos Personais\\Rappler\\Audio-Analysis\\data\\NEWNEW\\clean\\folis\\Opinions\\https___www.tiktok.com__nikkacg_video_7385519499635674386__r_1_u_code_0_preview_pb_0_sharer_language_en__d_ej2102947b79ja_share_item_id_7385519499635674386_source_h5_m.mp3 ...\n",
      "Enhanced audio saved to C:\\Users\\Ebo\\Projetos Personais\\Rappler\\Audio-Analysis\\data\\NEWNEW\\clean\\folis\\Opinions\\enhanced\\https___www.tiktok.com__nikkacg_video_7385519499635674386__r_1_u_code_0_preview_pb_0_sharer_language_en__d_ej2102947b79ja_share_item_id_7385519499635674386_source_h5_m.wav\n",
      "\n",
      "Processing C:\\Users\\Ebo\\Projetos Personais\\Rappler\\Audio-Analysis\\data\\NEWNEW\\clean\\folis\\Opinions\\waved ...\n",
      "Error processing C:\\Users\\Ebo\\Projetos Personais\\Rappler\\Audio-Analysis\\data\\NEWNEW\\clean\\folis\\Opinions\\waved: [Errno 13] Permission denied: 'C:\\\\Users\\\\Ebo\\\\Projetos Personais\\\\Rappler\\\\Audio-Analysis\\\\data\\\\NEWNEW\\\\clean\\\\folis\\\\Opinions\\\\waved'\n",
      "Processing C:\\Users\\Ebo\\Projetos Personais\\Rappler\\Audio-Analysis\\data\\NEWNEW\\clean\\folis\\Opinions\\enhanced ...\n",
      "Error processing C:\\Users\\Ebo\\Projetos Personais\\Rappler\\Audio-Analysis\\data\\NEWNEW\\clean\\folis\\Opinions\\enhanced: [Errno 13] Permission denied: 'C:\\\\Users\\\\Ebo\\\\Projetos Personais\\\\Rappler\\\\Audio-Analysis\\\\data\\\\NEWNEW\\\\clean\\\\folis\\\\Opinions\\\\enhanced'\n",
      "Processing C:\\Users\\Ebo\\Projetos Personais\\Rappler\\Audio-Analysis\\data\\NEWNEW\\clean\\folis\\Opinions\\https___www.tiktok.com__gabe.talks_video_7436393589573193015__r_1_u_code_0_preview_pb_0_sharer_language_en__d_ej212k2idl491c_share_item_id_7436393589573193015_source_h5_m.mp3 ...\n",
      "Converted audio saved to C:\\Users\\Ebo\\Projetos Personais\\Rappler\\Audio-Analysis\\data\\NEWNEW\\clean\\folis\\Opinions\\waved\\https___www.tiktok.com__gabe.talks_video_7436393589573193015__r_1_u_code_0_preview_pb_0_sharer_language_en__d_ej212k2idl491c_share_item_id_7436393589573193015_source_h5_m.wav\n",
      "\n",
      "Processing C:\\Users\\Ebo\\Projetos Personais\\Rappler\\Audio-Analysis\\data\\NEWNEW\\clean\\folis\\Opinions\\https___www.tiktok.com__nikkacg_video_7356576267015146758__r_1_u_code_0_preview_pb_0_sharer_language_en__d_ej2175i1b84i64_share_item_id_7356576267015146758_source_h5_m.mp3 ...\n",
      "Converted audio saved to C:\\Users\\Ebo\\Projetos Personais\\Rappler\\Audio-Analysis\\data\\NEWNEW\\clean\\folis\\Opinions\\waved\\https___www.tiktok.com__nikkacg_video_7356576267015146758__r_1_u_code_0_preview_pb_0_sharer_language_en__d_ej2175i1b84i64_share_item_id_7356576267015146758_source_h5_m.wav\n",
      "\n",
      "Processing C:\\Users\\Ebo\\Projetos Personais\\Rappler\\Audio-Analysis\\data\\NEWNEW\\clean\\folis\\Opinions\\https___www.tiktok.com__nikkacg_video_7385519499635674386__r_1_u_code_0_preview_pb_0_sharer_language_en__d_ej2102947b79ja_share_item_id_7385519499635674386_source_h5_m.mp3 ...\n",
      "Converted audio saved to C:\\Users\\Ebo\\Projetos Personais\\Rappler\\Audio-Analysis\\data\\NEWNEW\\clean\\folis\\Opinions\\waved\\https___www.tiktok.com__nikkacg_video_7385519499635674386__r_1_u_code_0_preview_pb_0_sharer_language_en__d_ej2102947b79ja_share_item_id_7385519499635674386_source_h5_m.wav\n",
      "\n",
      "Processing C:\\Users\\Ebo\\Projetos Personais\\Rappler\\Audio-Analysis\\data\\NEWNEW\\clean\\folis\\Opinions\\waved ...\n",
      "Error processing C:\\Users\\Ebo\\Projetos Personais\\Rappler\\Audio-Analysis\\data\\NEWNEW\\clean\\folis\\Opinions\\waved: [Errno 13] Permission denied: 'C:\\\\Users\\\\Ebo\\\\Projetos Personais\\\\Rappler\\\\Audio-Analysis\\\\data\\\\NEWNEW\\\\clean\\\\folis\\\\Opinions\\\\waved'\n",
      "\u001b[32m2025-03-01 20:48:15\u001b[0m | \u001b[1mINFO    \u001b[0m | \u001b[36mDF\u001b[0m | \u001b[1mLoading model settings of DeepFilterNet3\u001b[0m\n",
      "\u001b[32m2025-03-01 20:48:15\u001b[0m | \u001b[1mINFO    \u001b[0m | \u001b[36mDF\u001b[0m | \u001b[1mUsing DeepFilterNet3 model at C:\\Users\\Ebo\\AppData\\Local\\DeepFilterNet\\DeepFilterNet\\Cache\\DeepFilterNet3\u001b[0m\n",
      "\u001b[32m2025-03-01 20:48:15\u001b[0m | \u001b[1mINFO    \u001b[0m | \u001b[36mDF\u001b[0m | \u001b[1mInitializing model `deepfilternet3`\u001b[0m\n",
      "\u001b[32m2025-03-01 20:48:15\u001b[0m | \u001b[1mINFO    \u001b[0m | \u001b[36mDF\u001b[0m | \u001b[1mFound checkpoint C:\\Users\\Ebo\\AppData\\Local\\DeepFilterNet\\DeepFilterNet\\Cache\\DeepFilterNet3\\checkpoints\\model_120.ckpt.best with epoch 120\u001b[0m\n",
      "\u001b[32m2025-03-01 20:48:16\u001b[0m | \u001b[1mINFO    \u001b[0m | \u001b[36mDF\u001b[0m | \u001b[1mRunning on device cuda:0\u001b[0m\n",
      "\u001b[32m2025-03-01 20:48:16\u001b[0m | \u001b[1mINFO    \u001b[0m | \u001b[36mDF\u001b[0m | \u001b[1mModel loaded\u001b[0m\n",
      "Processing C:\\Users\\Ebo\\Projetos Personais\\Rappler\\Audio-Analysis\\data\\NEWNEW\\clean\\folis\\Project Dalisay\\enhanced ...\n",
      "Error processing C:\\Users\\Ebo\\Projetos Personais\\Rappler\\Audio-Analysis\\data\\NEWNEW\\clean\\folis\\Project Dalisay\\enhanced: [Errno 13] Permission denied: 'C:\\\\Users\\\\Ebo\\\\Projetos Personais\\\\Rappler\\\\Audio-Analysis\\\\data\\\\NEWNEW\\\\clean\\\\folis\\\\Project Dalisay\\\\enhanced'\n",
      "Processing C:\\Users\\Ebo\\Projetos Personais\\Rappler\\Audio-Analysis\\data\\NEWNEW\\clean\\folis\\Project Dalisay\\https___www.tiktok.com__project.dalisay_video_7460363330176208129__r_1_u_code_0_preview_pb_0_sharer_language_en__d_ej08lg9e8beg9d_share_item_id_7460363330176208129_source_h5_m.mp3 ...\n",
      "Enhanced audio saved to C:\\Users\\Ebo\\Projetos Personais\\Rappler\\Audio-Analysis\\data\\NEWNEW\\clean\\folis\\Project Dalisay\\enhanced\\https___www.tiktok.com__project.dalisay_video_7460363330176208129__r_1_u_code_0_preview_pb_0_sharer_language_en__d_ej08lg9e8beg9d_share_item_id_7460363330176208129_source_h5_m.wav\n",
      "\n",
      "Processing C:\\Users\\Ebo\\Projetos Personais\\Rappler\\Audio-Analysis\\data\\NEWNEW\\clean\\folis\\Project Dalisay\\waved ...\n",
      "Error processing C:\\Users\\Ebo\\Projetos Personais\\Rappler\\Audio-Analysis\\data\\NEWNEW\\clean\\folis\\Project Dalisay\\waved: [Errno 13] Permission denied: 'C:\\\\Users\\\\Ebo\\\\Projetos Personais\\\\Rappler\\\\Audio-Analysis\\\\data\\\\NEWNEW\\\\clean\\\\folis\\\\Project Dalisay\\\\waved'\n",
      "Processing C:\\Users\\Ebo\\Projetos Personais\\Rappler\\Audio-Analysis\\data\\NEWNEW\\clean\\folis\\Project Dalisay\\enhanced ...\n",
      "Error processing C:\\Users\\Ebo\\Projetos Personais\\Rappler\\Audio-Analysis\\data\\NEWNEW\\clean\\folis\\Project Dalisay\\enhanced: [Errno 13] Permission denied: 'C:\\\\Users\\\\Ebo\\\\Projetos Personais\\\\Rappler\\\\Audio-Analysis\\\\data\\\\NEWNEW\\\\clean\\\\folis\\\\Project Dalisay\\\\enhanced'\n",
      "Processing C:\\Users\\Ebo\\Projetos Personais\\Rappler\\Audio-Analysis\\data\\NEWNEW\\clean\\folis\\Project Dalisay\\https___www.tiktok.com__project.dalisay_video_7460363330176208129__r_1_u_code_0_preview_pb_0_sharer_language_en__d_ej08lg9e8beg9d_share_item_id_7460363330176208129_source_h5_m.mp3 ...\n",
      "Converted audio saved to C:\\Users\\Ebo\\Projetos Personais\\Rappler\\Audio-Analysis\\data\\NEWNEW\\clean\\folis\\Project Dalisay\\waved\\https___www.tiktok.com__project.dalisay_video_7460363330176208129__r_1_u_code_0_preview_pb_0_sharer_language_en__d_ej08lg9e8beg9d_share_item_id_7460363330176208129_source_h5_m.wav\n",
      "\n",
      "Processing C:\\Users\\Ebo\\Projetos Personais\\Rappler\\Audio-Analysis\\data\\NEWNEW\\clean\\folis\\Project Dalisay\\waved ...\n",
      "Error processing C:\\Users\\Ebo\\Projetos Personais\\Rappler\\Audio-Analysis\\data\\NEWNEW\\clean\\folis\\Project Dalisay\\waved: [Errno 13] Permission denied: 'C:\\\\Users\\\\Ebo\\\\Projetos Personais\\\\Rappler\\\\Audio-Analysis\\\\data\\\\NEWNEW\\\\clean\\\\folis\\\\Project Dalisay\\\\waved'\n",
      "\u001b[32m2025-03-01 20:48:18\u001b[0m | \u001b[1mINFO    \u001b[0m | \u001b[36mDF\u001b[0m | \u001b[1mLoading model settings of DeepFilterNet3\u001b[0m\n",
      "\u001b[32m2025-03-01 20:48:18\u001b[0m | \u001b[1mINFO    \u001b[0m | \u001b[36mDF\u001b[0m | \u001b[1mUsing DeepFilterNet3 model at C:\\Users\\Ebo\\AppData\\Local\\DeepFilterNet\\DeepFilterNet\\Cache\\DeepFilterNet3\u001b[0m\n",
      "\u001b[32m2025-03-01 20:48:18\u001b[0m | \u001b[1mINFO    \u001b[0m | \u001b[36mDF\u001b[0m | \u001b[1mInitializing model `deepfilternet3`\u001b[0m\n",
      "\u001b[32m2025-03-01 20:48:18\u001b[0m | \u001b[1mINFO    \u001b[0m | \u001b[36mDF\u001b[0m | \u001b[1mFound checkpoint C:\\Users\\Ebo\\AppData\\Local\\DeepFilterNet\\DeepFilterNet\\Cache\\DeepFilterNet3\\checkpoints\\model_120.ckpt.best with epoch 120\u001b[0m\n",
      "\u001b[32m2025-03-01 20:48:18\u001b[0m | \u001b[1mINFO    \u001b[0m | \u001b[36mDF\u001b[0m | \u001b[1mRunning on device cuda:0\u001b[0m\n",
      "\u001b[32m2025-03-01 20:48:18\u001b[0m | \u001b[1mINFO    \u001b[0m | \u001b[36mDF\u001b[0m | \u001b[1mModel loaded\u001b[0m\n",
      "Processing C:\\Users\\Ebo\\Projetos Personais\\Rappler\\Audio-Analysis\\data\\NEWNEW\\clean\\folis\\Questions about Pill_BC\\enhanced ...\n",
      "Error processing C:\\Users\\Ebo\\Projetos Personais\\Rappler\\Audio-Analysis\\data\\NEWNEW\\clean\\folis\\Questions about Pill_BC\\enhanced: [Errno 13] Permission denied: 'C:\\\\Users\\\\Ebo\\\\Projetos Personais\\\\Rappler\\\\Audio-Analysis\\\\data\\\\NEWNEW\\\\clean\\\\folis\\\\Questions about Pill_BC\\\\enhanced'\n",
      "Processing C:\\Users\\Ebo\\Projetos Personais\\Rappler\\Audio-Analysis\\data\\NEWNEW\\clean\\folis\\Questions about Pill_BC\\https___www.tiktok.com__alyzamaemontero_video_7217000673773112581__r_1_u_code_0_preview_pb_0_sharer_language_en__d_ej2143jgk3dhhk_share_item_id_7217000673773112581_source_h5_m.mp3 ...\n",
      "Enhanced audio saved to C:\\Users\\Ebo\\Projetos Personais\\Rappler\\Audio-Analysis\\data\\NEWNEW\\clean\\folis\\Questions about Pill_BC\\enhanced\\https___www.tiktok.com__alyzamaemontero_video_7217000673773112581__r_1_u_code_0_preview_pb_0_sharer_language_en__d_ej2143jgk3dhhk_share_item_id_7217000673773112581_source_h5_m.wav\n",
      "\n",
      "Processing C:\\Users\\Ebo\\Projetos Personais\\Rappler\\Audio-Analysis\\data\\NEWNEW\\clean\\folis\\Questions about Pill_BC\\https___www.tiktok.com__alyzamaemontero_video_7246947637725875461__r_1_u_code_0_preview_pb_0_sharer_language_en__d_ej2140h40e3ek2_share_item_id_7246947637725875461_source_h5_m.mp3 ...\n",
      "Enhanced audio saved to C:\\Users\\Ebo\\Projetos Personais\\Rappler\\Audio-Analysis\\data\\NEWNEW\\clean\\folis\\Questions about Pill_BC\\enhanced\\https___www.tiktok.com__alyzamaemontero_video_7246947637725875461__r_1_u_code_0_preview_pb_0_sharer_language_en__d_ej2140h40e3ek2_share_item_id_7246947637725875461_source_h5_m.wav\n",
      "\n",
      "Processing C:\\Users\\Ebo\\Projetos Personais\\Rappler\\Audio-Analysis\\data\\NEWNEW\\clean\\folis\\Questions about Pill_BC\\https___www.tiktok.com__alyzamaemontero_video_7247720078261685510__r_1_u_code_0_preview_pb_0_sharer_language_en__d_ej214008e729cf_share_item_id_7247720078261685510_source_h5_m.mp3 ...\n",
      "Enhanced audio saved to C:\\Users\\Ebo\\Projetos Personais\\Rappler\\Audio-Analysis\\data\\NEWNEW\\clean\\folis\\Questions about Pill_BC\\enhanced\\https___www.tiktok.com__alyzamaemontero_video_7247720078261685510__r_1_u_code_0_preview_pb_0_sharer_language_en__d_ej214008e729cf_share_item_id_7247720078261685510_source_h5_m.wav\n",
      "\n",
      "Processing C:\\Users\\Ebo\\Projetos Personais\\Rappler\\Audio-Analysis\\data\\NEWNEW\\clean\\folis\\Questions about Pill_BC\\waved ...\n",
      "Error processing C:\\Users\\Ebo\\Projetos Personais\\Rappler\\Audio-Analysis\\data\\NEWNEW\\clean\\folis\\Questions about Pill_BC\\waved: [Errno 13] Permission denied: 'C:\\\\Users\\\\Ebo\\\\Projetos Personais\\\\Rappler\\\\Audio-Analysis\\\\data\\\\NEWNEW\\\\clean\\\\folis\\\\Questions about Pill_BC\\\\waved'\n",
      "Processing C:\\Users\\Ebo\\Projetos Personais\\Rappler\\Audio-Analysis\\data\\NEWNEW\\clean\\folis\\Questions about Pill_BC\\enhanced ...\n",
      "Error processing C:\\Users\\Ebo\\Projetos Personais\\Rappler\\Audio-Analysis\\data\\NEWNEW\\clean\\folis\\Questions about Pill_BC\\enhanced: [Errno 13] Permission denied: 'C:\\\\Users\\\\Ebo\\\\Projetos Personais\\\\Rappler\\\\Audio-Analysis\\\\data\\\\NEWNEW\\\\clean\\\\folis\\\\Questions about Pill_BC\\\\enhanced'\n",
      "Processing C:\\Users\\Ebo\\Projetos Personais\\Rappler\\Audio-Analysis\\data\\NEWNEW\\clean\\folis\\Questions about Pill_BC\\https___www.tiktok.com__alyzamaemontero_video_7217000673773112581__r_1_u_code_0_preview_pb_0_sharer_language_en__d_ej2143jgk3dhhk_share_item_id_7217000673773112581_source_h5_m.mp3 ...\n",
      "Converted audio saved to C:\\Users\\Ebo\\Projetos Personais\\Rappler\\Audio-Analysis\\data\\NEWNEW\\clean\\folis\\Questions about Pill_BC\\waved\\https___www.tiktok.com__alyzamaemontero_video_7217000673773112581__r_1_u_code_0_preview_pb_0_sharer_language_en__d_ej2143jgk3dhhk_share_item_id_7217000673773112581_source_h5_m.wav\n",
      "\n",
      "Processing C:\\Users\\Ebo\\Projetos Personais\\Rappler\\Audio-Analysis\\data\\NEWNEW\\clean\\folis\\Questions about Pill_BC\\https___www.tiktok.com__alyzamaemontero_video_7246947637725875461__r_1_u_code_0_preview_pb_0_sharer_language_en__d_ej2140h40e3ek2_share_item_id_7246947637725875461_source_h5_m.mp3 ...\n",
      "Converted audio saved to C:\\Users\\Ebo\\Projetos Personais\\Rappler\\Audio-Analysis\\data\\NEWNEW\\clean\\folis\\Questions about Pill_BC\\waved\\https___www.tiktok.com__alyzamaemontero_video_7246947637725875461__r_1_u_code_0_preview_pb_0_sharer_language_en__d_ej2140h40e3ek2_share_item_id_7246947637725875461_source_h5_m.wav\n",
      "\n",
      "Processing C:\\Users\\Ebo\\Projetos Personais\\Rappler\\Audio-Analysis\\data\\NEWNEW\\clean\\folis\\Questions about Pill_BC\\https___www.tiktok.com__alyzamaemontero_video_7247720078261685510__r_1_u_code_0_preview_pb_0_sharer_language_en__d_ej214008e729cf_share_item_id_7247720078261685510_source_h5_m.mp3 ...\n",
      "Converted audio saved to C:\\Users\\Ebo\\Projetos Personais\\Rappler\\Audio-Analysis\\data\\NEWNEW\\clean\\folis\\Questions about Pill_BC\\waved\\https___www.tiktok.com__alyzamaemontero_video_7247720078261685510__r_1_u_code_0_preview_pb_0_sharer_language_en__d_ej214008e729cf_share_item_id_7247720078261685510_source_h5_m.wav\n",
      "\n",
      "Processing C:\\Users\\Ebo\\Projetos Personais\\Rappler\\Audio-Analysis\\data\\NEWNEW\\clean\\folis\\Questions about Pill_BC\\waved ...\n",
      "Error processing C:\\Users\\Ebo\\Projetos Personais\\Rappler\\Audio-Analysis\\data\\NEWNEW\\clean\\folis\\Questions about Pill_BC\\waved: [Errno 13] Permission denied: 'C:\\\\Users\\\\Ebo\\\\Projetos Personais\\\\Rappler\\\\Audio-Analysis\\\\data\\\\NEWNEW\\\\clean\\\\folis\\\\Questions about Pill_BC\\\\waved'\n",
      "\u001b[32m2025-03-01 20:48:26\u001b[0m | \u001b[1mINFO    \u001b[0m | \u001b[36mDF\u001b[0m | \u001b[1mLoading model settings of DeepFilterNet3\u001b[0m\n",
      "\u001b[32m2025-03-01 20:48:26\u001b[0m | \u001b[1mINFO    \u001b[0m | \u001b[36mDF\u001b[0m | \u001b[1mUsing DeepFilterNet3 model at C:\\Users\\Ebo\\AppData\\Local\\DeepFilterNet\\DeepFilterNet\\Cache\\DeepFilterNet3\u001b[0m\n",
      "\u001b[32m2025-03-01 20:48:26\u001b[0m | \u001b[1mINFO    \u001b[0m | \u001b[36mDF\u001b[0m | \u001b[1mInitializing model `deepfilternet3`\u001b[0m\n",
      "\u001b[32m2025-03-01 20:48:26\u001b[0m | \u001b[1mINFO    \u001b[0m | \u001b[36mDF\u001b[0m | \u001b[1mFound checkpoint C:\\Users\\Ebo\\AppData\\Local\\DeepFilterNet\\DeepFilterNet\\Cache\\DeepFilterNet3\\checkpoints\\model_120.ckpt.best with epoch 120\u001b[0m\n",
      "\u001b[32m2025-03-01 20:48:26\u001b[0m | \u001b[1mINFO    \u001b[0m | \u001b[36mDF\u001b[0m | \u001b[1mRunning on device cuda:0\u001b[0m\n",
      "\u001b[32m2025-03-01 20:48:26\u001b[0m | \u001b[1mINFO    \u001b[0m | \u001b[36mDF\u001b[0m | \u001b[1mModel loaded\u001b[0m\n",
      "Processing C:\\Users\\Ebo\\Projetos Personais\\Rappler\\Audio-Analysis\\data\\NEWNEW\\clean\\folis\\Risa Hontiveros\\enhanced ...\n",
      "Error processing C:\\Users\\Ebo\\Projetos Personais\\Rappler\\Audio-Analysis\\data\\NEWNEW\\clean\\folis\\Risa Hontiveros\\enhanced: [Errno 13] Permission denied: 'C:\\\\Users\\\\Ebo\\\\Projetos Personais\\\\Rappler\\\\Audio-Analysis\\\\data\\\\NEWNEW\\\\clean\\\\folis\\\\Risa Hontiveros\\\\enhanced'\n",
      "Processing C:\\Users\\Ebo\\Projetos Personais\\Rappler\\Audio-Analysis\\data\\NEWNEW\\clean\\folis\\Risa Hontiveros\\https___www.tiktok.com__senrisahontiveros_video_7460049988538617094__r_1_u_code_0_preview_pb_0_sharer_language_en__d_ej0cgj1jbjk125_share_item_id_7460049988538617094_source_h5_m.mp3 ...\n",
      "Enhanced audio saved to C:\\Users\\Ebo\\Projetos Personais\\Rappler\\Audio-Analysis\\data\\NEWNEW\\clean\\folis\\Risa Hontiveros\\enhanced\\https___www.tiktok.com__senrisahontiveros_video_7460049988538617094__r_1_u_code_0_preview_pb_0_sharer_language_en__d_ej0cgj1jbjk125_share_item_id_7460049988538617094_source_h5_m.wav\n",
      "\n",
      "Processing C:\\Users\\Ebo\\Projetos Personais\\Rappler\\Audio-Analysis\\data\\NEWNEW\\clean\\folis\\Risa Hontiveros\\https___www.tiktok.com__senrisahontiveros_video_7460091022698220808__r_1_u_code_0_preview_pb_0_sharer_language_en__d_ej20776f1hfjce_share_item_id_7460091022698220808_source_h5_m.mp3 ...\n",
      "Enhanced audio saved to C:\\Users\\Ebo\\Projetos Personais\\Rappler\\Audio-Analysis\\data\\NEWNEW\\clean\\folis\\Risa Hontiveros\\enhanced\\https___www.tiktok.com__senrisahontiveros_video_7460091022698220808__r_1_u_code_0_preview_pb_0_sharer_language_en__d_ej20776f1hfjce_share_item_id_7460091022698220808_source_h5_m.wav\n",
      "\n",
      "Processing C:\\Users\\Ebo\\Projetos Personais\\Rappler\\Audio-Analysis\\data\\NEWNEW\\clean\\folis\\Risa Hontiveros\\https___www.tiktok.com__senrisahontiveros_video_7460680158538747142__r_1_u_code_0_preview_pb_0_sharer_language_en__d_ej03fb1mlgaajd_share_item_id_7460680158538747142_source_h5_m.mp3 ...\n",
      "Enhanced audio saved to C:\\Users\\Ebo\\Projetos Personais\\Rappler\\Audio-Analysis\\data\\NEWNEW\\clean\\folis\\Risa Hontiveros\\enhanced\\https___www.tiktok.com__senrisahontiveros_video_7460680158538747142__r_1_u_code_0_preview_pb_0_sharer_language_en__d_ej03fb1mlgaajd_share_item_id_7460680158538747142_source_h5_m.wav\n",
      "\n",
      "Processing C:\\Users\\Ebo\\Projetos Personais\\Rappler\\Audio-Analysis\\data\\NEWNEW\\clean\\folis\\Risa Hontiveros\\https___www.tiktok.com__senrisahontiveros_video_7464830255035944198__r_1_u_code_0_preview_pb_0_sharer_language_en__d_ej20ji81lib496_share_item_id_7464830255035944198_source_h5_m.mp3 ...\n",
      "Enhanced audio saved to C:\\Users\\Ebo\\Projetos Personais\\Rappler\\Audio-Analysis\\data\\NEWNEW\\clean\\folis\\Risa Hontiveros\\enhanced\\https___www.tiktok.com__senrisahontiveros_video_7464830255035944198__r_1_u_code_0_preview_pb_0_sharer_language_en__d_ej20ji81lib496_share_item_id_7464830255035944198_source_h5_m.wav\n",
      "\n",
      "Processing C:\\Users\\Ebo\\Projetos Personais\\Rappler\\Audio-Analysis\\data\\NEWNEW\\clean\\folis\\Risa Hontiveros\\waved ...\n",
      "Error processing C:\\Users\\Ebo\\Projetos Personais\\Rappler\\Audio-Analysis\\data\\NEWNEW\\clean\\folis\\Risa Hontiveros\\waved: [Errno 13] Permission denied: 'C:\\\\Users\\\\Ebo\\\\Projetos Personais\\\\Rappler\\\\Audio-Analysis\\\\data\\\\NEWNEW\\\\clean\\\\folis\\\\Risa Hontiveros\\\\waved'\n",
      "Processing C:\\Users\\Ebo\\Projetos Personais\\Rappler\\Audio-Analysis\\data\\NEWNEW\\clean\\folis\\Risa Hontiveros\\enhanced ...\n",
      "Error processing C:\\Users\\Ebo\\Projetos Personais\\Rappler\\Audio-Analysis\\data\\NEWNEW\\clean\\folis\\Risa Hontiveros\\enhanced: [Errno 13] Permission denied: 'C:\\\\Users\\\\Ebo\\\\Projetos Personais\\\\Rappler\\\\Audio-Analysis\\\\data\\\\NEWNEW\\\\clean\\\\folis\\\\Risa Hontiveros\\\\enhanced'\n",
      "Processing C:\\Users\\Ebo\\Projetos Personais\\Rappler\\Audio-Analysis\\data\\NEWNEW\\clean\\folis\\Risa Hontiveros\\https___www.tiktok.com__senrisahontiveros_video_7460049988538617094__r_1_u_code_0_preview_pb_0_sharer_language_en__d_ej0cgj1jbjk125_share_item_id_7460049988538617094_source_h5_m.mp3 ...\n",
      "Converted audio saved to C:\\Users\\Ebo\\Projetos Personais\\Rappler\\Audio-Analysis\\data\\NEWNEW\\clean\\folis\\Risa Hontiveros\\waved\\https___www.tiktok.com__senrisahontiveros_video_7460049988538617094__r_1_u_code_0_preview_pb_0_sharer_language_en__d_ej0cgj1jbjk125_share_item_id_7460049988538617094_source_h5_m.wav\n",
      "\n",
      "Processing C:\\Users\\Ebo\\Projetos Personais\\Rappler\\Audio-Analysis\\data\\NEWNEW\\clean\\folis\\Risa Hontiveros\\https___www.tiktok.com__senrisahontiveros_video_7460091022698220808__r_1_u_code_0_preview_pb_0_sharer_language_en__d_ej20776f1hfjce_share_item_id_7460091022698220808_source_h5_m.mp3 ...\n",
      "Converted audio saved to C:\\Users\\Ebo\\Projetos Personais\\Rappler\\Audio-Analysis\\data\\NEWNEW\\clean\\folis\\Risa Hontiveros\\waved\\https___www.tiktok.com__senrisahontiveros_video_7460091022698220808__r_1_u_code_0_preview_pb_0_sharer_language_en__d_ej20776f1hfjce_share_item_id_7460091022698220808_source_h5_m.wav\n",
      "\n",
      "Processing C:\\Users\\Ebo\\Projetos Personais\\Rappler\\Audio-Analysis\\data\\NEWNEW\\clean\\folis\\Risa Hontiveros\\https___www.tiktok.com__senrisahontiveros_video_7460680158538747142__r_1_u_code_0_preview_pb_0_sharer_language_en__d_ej03fb1mlgaajd_share_item_id_7460680158538747142_source_h5_m.mp3 ...\n",
      "Converted audio saved to C:\\Users\\Ebo\\Projetos Personais\\Rappler\\Audio-Analysis\\data\\NEWNEW\\clean\\folis\\Risa Hontiveros\\waved\\https___www.tiktok.com__senrisahontiveros_video_7460680158538747142__r_1_u_code_0_preview_pb_0_sharer_language_en__d_ej03fb1mlgaajd_share_item_id_7460680158538747142_source_h5_m.wav\n",
      "\n",
      "Processing C:\\Users\\Ebo\\Projetos Personais\\Rappler\\Audio-Analysis\\data\\NEWNEW\\clean\\folis\\Risa Hontiveros\\https___www.tiktok.com__senrisahontiveros_video_7464830255035944198__r_1_u_code_0_preview_pb_0_sharer_language_en__d_ej20ji81lib496_share_item_id_7464830255035944198_source_h5_m.mp3 ...\n",
      "Converted audio saved to C:\\Users\\Ebo\\Projetos Personais\\Rappler\\Audio-Analysis\\data\\NEWNEW\\clean\\folis\\Risa Hontiveros\\waved\\https___www.tiktok.com__senrisahontiveros_video_7464830255035944198__r_1_u_code_0_preview_pb_0_sharer_language_en__d_ej20ji81lib496_share_item_id_7464830255035944198_source_h5_m.wav\n",
      "\n",
      "Processing C:\\Users\\Ebo\\Projetos Personais\\Rappler\\Audio-Analysis\\data\\NEWNEW\\clean\\folis\\Risa Hontiveros\\waved ...\n",
      "Error processing C:\\Users\\Ebo\\Projetos Personais\\Rappler\\Audio-Analysis\\data\\NEWNEW\\clean\\folis\\Risa Hontiveros\\waved: [Errno 13] Permission denied: 'C:\\\\Users\\\\Ebo\\\\Projetos Personais\\\\Rappler\\\\Audio-Analysis\\\\data\\\\NEWNEW\\\\clean\\\\folis\\\\Risa Hontiveros\\\\waved'\n"
     ]
    }
   ],
   "source": [
    "for folder in glob.glob(r\"C:\\Users\\Ebo\\Projetos Personais\\Rappler\\Audio-Analysis\\data\\NEWNEW\\clean\\folis\\*\"):\n",
    "    enhance_audio_files(input_folder=folder, output_folder=folder + r\"\\enhanced\")\n",
    "    convert_audio_files_to_wav(input_folder=folder, output_folder=folder + r\"\\waved\")"
   ]
  },
  {
   "cell_type": "markdown",
   "metadata": {},
   "source": [
    "The cell above would produce a new folder/directory (enhanced from `enhance_audio_files` and waved from `convert_audio_files_to_wav`). `enhanced` includes audios processed with deepfilterlib (bg noise removed) while `waved` only includes audios converted to wav."
   ]
  },
  {
   "cell_type": "code",
   "execution_count": 16,
   "metadata": {},
   "outputs": [],
   "source": [
    "def process_audio_with_model(audio_folder, model_name, device=0):\n",
    "    \"\"\"\n",
    "    Process audio files in the specified folder with the given model and return the results as a DataFrame.\n",
    "    \n",
    "    Parameters:\n",
    "    - audio_folder (str): Directory containing the audio files.\n",
    "    - model_name (str): Name of the model to use for emotion recognition.\n",
    "    - device (int): Device to use for processing (0 for GPU, -1 for CPU).\n",
    "    \n",
    "    Returns:\n",
    "    - pd.DataFrame: DataFrame containing the results.\n",
    "    \"\"\"\n",
    "    audio_files = [f for f in os.listdir(audio_folder) if f.endswith(\".wav\")]\n",
    "    print(f\"Device: {'GPU' if device == 0 else 'CPU'}\")\n",
    "\n",
    "    all_data = []\n",
    "\n",
    "    print(f\"Processing with model: {model_name}\")\n",
    "    try:\n",
    "        emotion_pipeline = pipeline(\"audio-classification\", model=model_name, device=device)\n",
    "\n",
    "        for audio_file in audio_files:\n",
    "            audio_path = os.path.join(audio_folder, audio_file)\n",
    "            try:\n",
    "                results = emotion_pipeline(audio_path)\n",
    "                result_dict = {\"File\": audio_file, \"Model\": model_name}\n",
    "                for result in results:\n",
    "                    result_dict[result[\"label\"]] = result[\"score\"]\n",
    "                all_data.append(result_dict)\n",
    "            except RuntimeError as e:\n",
    "                if \"CUDA out of memory\" in str(e):\n",
    "                    print(\"Out of memory! Switching to CPU.\")\n",
    "                    emotion_pipeline = pipeline(\"audio-classification\", model=model_name, device=-1)\n",
    "                    results = emotion_pipeline(audio_path)\n",
    "                    result_dict = {\"File\": audio_file, \"Model\": model_name}\n",
    "                    for result in results:\n",
    "                        result_dict[result[\"label\"]] = result[\"score\"]\n",
    "                    all_data.append(result_dict)\n",
    "\n",
    "    except Exception as e:\n",
    "        print(f\"Error with model {model_name}: {e}\")\n",
    "\n",
    "    # Cleanup\n",
    "    del emotion_pipeline\n",
    "    torch.cuda.empty_cache()\n",
    "    gc.collect()\n",
    "\n",
    "    return pd.DataFrame(all_data)"
   ]
  },
  {
   "cell_type": "markdown",
   "metadata": {},
   "source": [
    "The code below already processes all audios under `enhanced` subfolder in each folders within `folis` (folder name in path) and concatenates all results separated by model (one dataframe = one model)."
   ]
  },
  {
   "cell_type": "code",
   "execution_count": 19,
   "metadata": {},
   "outputs": [
    {
     "name": "stdout",
     "output_type": "stream",
     "text": [
      "Device: GPU\n",
      "Processing with model: firdhokk/speech-emotion-recognition-with-openai-whisper-large-v3\n",
      "Device: GPU\n",
      "Processing with model: firdhokk/speech-emotion-recognition-with-openai-whisper-large-v3\n",
      "Device: GPU\n",
      "Processing with model: firdhokk/speech-emotion-recognition-with-openai-whisper-large-v3\n",
      "Device: GPU\n",
      "Processing with model: firdhokk/speech-emotion-recognition-with-openai-whisper-large-v3\n",
      "Device: GPU\n",
      "Processing with model: firdhokk/speech-emotion-recognition-with-openai-whisper-large-v3\n",
      "Device: GPU\n",
      "Processing with model: firdhokk/speech-emotion-recognition-with-openai-whisper-large-v3\n",
      "Device: GPU\n",
      "Processing with model: firdhokk/speech-emotion-recognition-with-openai-whisper-large-v3\n"
     ]
    }
   ],
   "source": [
    "# Do for all folders\n",
    "all_results_model1 = []\n",
    "\n",
    "for folder in glob.glob(r\"C:\\Users\\Ebo\\Projetos Personais\\Rappler\\Audio-Analysis\\data\\NEWNEW\\clean\\folis\\*\"):\n",
    "    df_model1 = process_audio_with_model(\n",
    "        audio_folder=folder + r\"\\enhanced\",\n",
    "        model_name=\"firdhokk/speech-emotion-recognition-with-openai-whisper-large-v3\"\n",
    "    )\n",
    "    all_results_model1.append(df_model1)\n",
    "\n",
    "# Concatenate all results into one DataFrame\n",
    "df_all_model1 = pd.concat(all_results_model1, ignore_index=True)\n",
    "\n",
    "# Save the concatenated DataFrame to a CSV file\n",
    "df_all_model1.to_csv(r\"C:\\Users\\Ebo\\Projetos Personais\\Rappler\\Audio-Analysis\\data\\NEWNEW\\clean\\results\\all_results_model1.csv\", index=False)"
   ]
  },
  {
   "cell_type": "markdown",
   "metadata": {},
   "source": [
    "The code below already processes all audios under `waved` (raw audio) subfolder in each folders within `folis` (folder name in path) and concatenates all results separated by model (one dataframe = one model)."
   ]
  },
  {
   "cell_type": "code",
   "execution_count": null,
   "metadata": {},
   "outputs": [
    {
     "name": "stdout",
     "output_type": "stream",
     "text": [
      "Device: GPU\n",
      "Processing with model: firdhokk/speech-emotion-recognition-with-facebook-wav2vec2-large-xlsr-53\n",
      "WARNING:tensorflow:From c:\\Users\\Ebo\\anaconda3\\envs\\odeon\\Lib\\site-packages\\tf_keras\\src\\losses.py:2976: The name tf.losses.sparse_softmax_cross_entropy is deprecated. Please use tf.compat.v1.losses.sparse_softmax_cross_entropy instead.\n",
      "\n",
      "Device: GPU\n",
      "Processing with model: firdhokk/speech-emotion-recognition-with-facebook-wav2vec2-large-xlsr-53\n",
      "Device: GPU\n",
      "Processing with model: firdhokk/speech-emotion-recognition-with-facebook-wav2vec2-large-xlsr-53\n",
      "Device: GPU\n",
      "Processing with model: firdhokk/speech-emotion-recognition-with-facebook-wav2vec2-large-xlsr-53\n",
      "Device: GPU\n",
      "Processing with model: firdhokk/speech-emotion-recognition-with-facebook-wav2vec2-large-xlsr-53\n",
      "Device: GPU\n",
      "Processing with model: firdhokk/speech-emotion-recognition-with-facebook-wav2vec2-large-xlsr-53\n",
      "Device: GPU\n",
      "Processing with model: firdhokk/speech-emotion-recognition-with-facebook-wav2vec2-large-xlsr-53\n"
     ]
    }
   ],
   "source": [
    "# Do for all folders\n",
    "all_results_model2 = []\n",
    "\n",
    "for folder in glob.glob(r\"C:\\Users\\Ebo\\Projetos Personais\\Rappler\\Audio-Analysis\\data\\NEWNEW\\clean\\folis\\*\"):\n",
    "    df_model2 = process_audio_with_model(\n",
    "        audio_folder=folder + r\"\\waved\",\n",
    "        model_name=\"firdhokk/speech-emotion-recognition-with-facebook-wav2vec2-large-xlsr-53\"\n",
    "    )\n",
    "    all_results_model2.append(df_model2)\n",
    "\n",
    "# Concatenate all results into one DataFrame\n",
    "df_all_model2 = pd.concat(all_results_model2, ignore_index=True)\n",
    "\n",
    "# Save the concatenated DataFrame to a CSV file\n",
    "df_all_model2.to_csv(r\"C:\\Users\\Ebo\\Projetos Personais\\Rappler\\Audio-Analysis\\data\\NEWNEW\\clean\\results\\all_results_model2.csv\", index=False)"
   ]
  },
  {
   "cell_type": "markdown",
   "metadata": {},
   "source": [
    "## Sample (if single folder)"
   ]
  },
  {
   "cell_type": "code",
   "execution_count": null,
   "metadata": {},
   "outputs": [
    {
     "name": "stdout",
     "output_type": "stream",
     "text": [
      "Device: GPU\n",
      "Processing with model: firdhokk/speech-emotion-recognition-with-openai-whisper-large-v3\n",
      "Device: GPU\n",
      "Processing with model: firdhokk/speech-emotion-recognition-with-facebook-wav2vec2-large-xlsr-53\n",
      "WARNING:tensorflow:From c:\\Users\\Ebo\\anaconda3\\envs\\odeon\\Lib\\site-packages\\tf_keras\\src\\losses.py:2976: The name tf.losses.sparse_softmax_cross_entropy is deprecated. Please use tf.compat.v1.losses.sparse_softmax_cross_entropy instead.\n",
      "\n"
     ]
    },
    {
     "data": {
      "application/vnd.microsoft.datawrangler.viewer.v0+json": {
       "columns": [
        {
         "name": "index",
         "rawType": "int64",
         "type": "integer"
        },
        {
         "name": "File",
         "rawType": "object",
         "type": "string"
        },
        {
         "name": "Model",
         "rawType": "object",
         "type": "string"
        },
        {
         "name": "angry",
         "rawType": "float64",
         "type": "float"
        },
        {
         "name": "happy",
         "rawType": "float64",
         "type": "float"
        },
        {
         "name": "neutral",
         "rawType": "float64",
         "type": "float"
        },
        {
         "name": "fearful",
         "rawType": "float64",
         "type": "float"
        },
        {
         "name": "surprised",
         "rawType": "float64",
         "type": "float"
        }
       ],
       "conversionMethod": "pd.DataFrame",
       "ref": "8f2747ad-fa65-4517-a074-f2579a9651d6",
       "rows": [
        [
         "0",
         "https___www.tiktok.com__senrisahontiveros_video_7460049988538617094__r_1_u_code_0_preview_pb_0_sharer_language_en__d_ej0cgj1jbjk125_share_item_id_7460049988538617094_source_h5_m.wav",
         "firdhokk/speech-emotion-recognition-with-openai-whisper-large-v3",
         "0.9141660332679749",
         "0.07213998585939407",
         "0.005227751098573208",
         "0.004228838719427586",
         "0.0024288599379360676"
        ],
        [
         "1",
         "https___www.tiktok.com__senrisahontiveros_video_7460091022698220808__r_1_u_code_0_preview_pb_0_sharer_language_en__d_ej20776f1hfjce_share_item_id_7460091022698220808_source_h5_m.wav",
         "firdhokk/speech-emotion-recognition-with-openai-whisper-large-v3",
         "0.22604183852672577",
         "0.7447713017463684",
         "0.005060142837464809",
         "0.009098623879253864",
         "0.013111299835145473"
        ],
        [
         "2",
         "https___www.tiktok.com__senrisahontiveros_video_7460680158538747142__r_1_u_code_0_preview_pb_0_sharer_language_en__d_ej03fb1mlgaajd_share_item_id_7460680158538747142_source_h5_m.wav",
         "firdhokk/speech-emotion-recognition-with-openai-whisper-large-v3",
         "0.9621850252151489",
         "0.015838375315070152",
         "0.007485354784876108",
         "0.002069454872980714",
         "0.010301618836820126"
        ],
        [
         "3",
         "https___www.tiktok.com__senrisahontiveros_video_7464830255035944198__r_1_u_code_0_preview_pb_0_sharer_language_en__d_ej20ji81lib496_share_item_id_7464830255035944198_source_h5_m.wav",
         "firdhokk/speech-emotion-recognition-with-openai-whisper-large-v3",
         "0.12485931813716888",
         "0.07497201859951019",
         "0.019864579662680626",
         "0.006123872473835945",
         "0.7707319259643555"
        ]
       ],
       "shape": {
        "columns": 7,
        "rows": 4
       }
      },
      "text/html": [
       "<div>\n",
       "<style scoped>\n",
       "    .dataframe tbody tr th:only-of-type {\n",
       "        vertical-align: middle;\n",
       "    }\n",
       "\n",
       "    .dataframe tbody tr th {\n",
       "        vertical-align: top;\n",
       "    }\n",
       "\n",
       "    .dataframe thead th {\n",
       "        text-align: right;\n",
       "    }\n",
       "</style>\n",
       "<table border=\"1\" class=\"dataframe\">\n",
       "  <thead>\n",
       "    <tr style=\"text-align: right;\">\n",
       "      <th></th>\n",
       "      <th>File</th>\n",
       "      <th>Model</th>\n",
       "      <th>angry</th>\n",
       "      <th>happy</th>\n",
       "      <th>neutral</th>\n",
       "      <th>fearful</th>\n",
       "      <th>surprised</th>\n",
       "    </tr>\n",
       "  </thead>\n",
       "  <tbody>\n",
       "    <tr>\n",
       "      <th>0</th>\n",
       "      <td>https___www.tiktok.com__senrisahontiveros_vide...</td>\n",
       "      <td>firdhokk/speech-emotion-recognition-with-opena...</td>\n",
       "      <td>0.914166</td>\n",
       "      <td>0.072140</td>\n",
       "      <td>0.005228</td>\n",
       "      <td>0.004229</td>\n",
       "      <td>0.002429</td>\n",
       "    </tr>\n",
       "    <tr>\n",
       "      <th>1</th>\n",
       "      <td>https___www.tiktok.com__senrisahontiveros_vide...</td>\n",
       "      <td>firdhokk/speech-emotion-recognition-with-opena...</td>\n",
       "      <td>0.226042</td>\n",
       "      <td>0.744771</td>\n",
       "      <td>0.005060</td>\n",
       "      <td>0.009099</td>\n",
       "      <td>0.013111</td>\n",
       "    </tr>\n",
       "    <tr>\n",
       "      <th>2</th>\n",
       "      <td>https___www.tiktok.com__senrisahontiveros_vide...</td>\n",
       "      <td>firdhokk/speech-emotion-recognition-with-opena...</td>\n",
       "      <td>0.962185</td>\n",
       "      <td>0.015838</td>\n",
       "      <td>0.007485</td>\n",
       "      <td>0.002069</td>\n",
       "      <td>0.010302</td>\n",
       "    </tr>\n",
       "    <tr>\n",
       "      <th>3</th>\n",
       "      <td>https___www.tiktok.com__senrisahontiveros_vide...</td>\n",
       "      <td>firdhokk/speech-emotion-recognition-with-opena...</td>\n",
       "      <td>0.124859</td>\n",
       "      <td>0.074972</td>\n",
       "      <td>0.019865</td>\n",
       "      <td>0.006124</td>\n",
       "      <td>0.770732</td>\n",
       "    </tr>\n",
       "  </tbody>\n",
       "</table>\n",
       "</div>"
      ],
      "text/plain": [
       "                                                File  \\\n",
       "0  https___www.tiktok.com__senrisahontiveros_vide...   \n",
       "1  https___www.tiktok.com__senrisahontiveros_vide...   \n",
       "2  https___www.tiktok.com__senrisahontiveros_vide...   \n",
       "3  https___www.tiktok.com__senrisahontiveros_vide...   \n",
       "\n",
       "                                               Model     angry     happy  \\\n",
       "0  firdhokk/speech-emotion-recognition-with-opena...  0.914166  0.072140   \n",
       "1  firdhokk/speech-emotion-recognition-with-opena...  0.226042  0.744771   \n",
       "2  firdhokk/speech-emotion-recognition-with-opena...  0.962185  0.015838   \n",
       "3  firdhokk/speech-emotion-recognition-with-opena...  0.124859  0.074972   \n",
       "\n",
       "    neutral   fearful  surprised  \n",
       "0  0.005228  0.004229   0.002429  \n",
       "1  0.005060  0.009099   0.013111  \n",
       "2  0.007485  0.002069   0.010302  \n",
       "3  0.019865  0.006124   0.770732  "
      ]
     },
     "metadata": {},
     "output_type": "display_data"
    },
    {
     "data": {
      "application/vnd.microsoft.datawrangler.viewer.v0+json": {
       "columns": [
        {
         "name": "index",
         "rawType": "int64",
         "type": "integer"
        },
        {
         "name": "File",
         "rawType": "object",
         "type": "string"
        },
        {
         "name": "Model",
         "rawType": "object",
         "type": "string"
        },
        {
         "name": "happy",
         "rawType": "float64",
         "type": "float"
        },
        {
         "name": "surprised",
         "rawType": "float64",
         "type": "float"
        },
        {
         "name": "angry",
         "rawType": "float64",
         "type": "float"
        },
        {
         "name": "fearful",
         "rawType": "float64",
         "type": "float"
        },
        {
         "name": "disgust",
         "rawType": "float64",
         "type": "float"
        },
        {
         "name": "sad",
         "rawType": "float64",
         "type": "float"
        }
       ],
       "conversionMethod": "pd.DataFrame",
       "ref": "386b1abd-bebb-4437-b558-edd950f976e6",
       "rows": [
        [
         "0",
         "https___www.tiktok.com__senrisahontiveros_video_7460049988538617094__r_1_u_code_0_preview_pb_0_sharer_language_en__d_ej0cgj1jbjk125_share_item_id_7460049988538617094_source_h5_m.wav",
         "firdhokk/speech-emotion-recognition-with-facebook-wav2vec2-large-xlsr-53",
         "0.989997148513794",
         "0.006587567273527384",
         "0.003112746635451913",
         "0.0002673341368790716",
         "2.593740282463841e-05",
         null
        ],
        [
         "1",
         "https___www.tiktok.com__senrisahontiveros_video_7460091022698220808__r_1_u_code_0_preview_pb_0_sharer_language_en__d_ej20776f1hfjce_share_item_id_7460091022698220808_source_h5_m.wav",
         "firdhokk/speech-emotion-recognition-with-facebook-wav2vec2-large-xlsr-53",
         "0.9913877844810486",
         "0.0011330011766403913",
         "0.007370228413492441",
         "8.414279000135139e-05",
         "1.9897252059308812e-05",
         null
        ],
        [
         "2",
         "https___www.tiktok.com__senrisahontiveros_video_7460680158538747142__r_1_u_code_0_preview_pb_0_sharer_language_en__d_ej03fb1mlgaajd_share_item_id_7460680158538747142_source_h5_m.wav",
         "firdhokk/speech-emotion-recognition-with-facebook-wav2vec2-large-xlsr-53",
         "0.9625225067138672",
         "0.005589253734797239",
         "0.006436766125261784",
         null,
         "0.02507591061294079",
         "0.0002864198468159884"
        ],
        [
         "3",
         "https___www.tiktok.com__senrisahontiveros_video_7464830255035944198__r_1_u_code_0_preview_pb_0_sharer_language_en__d_ej20ji81lib496_share_item_id_7464830255035944198_source_h5_m.wav",
         "firdhokk/speech-emotion-recognition-with-facebook-wav2vec2-large-xlsr-53",
         "0.9968860745429993",
         "0.00039257301250472665",
         "0.0023055244237184525",
         "0.0002628888178151101",
         "0.00011958502000197768",
         null
        ]
       ],
       "shape": {
        "columns": 8,
        "rows": 4
       }
      },
      "text/html": [
       "<div>\n",
       "<style scoped>\n",
       "    .dataframe tbody tr th:only-of-type {\n",
       "        vertical-align: middle;\n",
       "    }\n",
       "\n",
       "    .dataframe tbody tr th {\n",
       "        vertical-align: top;\n",
       "    }\n",
       "\n",
       "    .dataframe thead th {\n",
       "        text-align: right;\n",
       "    }\n",
       "</style>\n",
       "<table border=\"1\" class=\"dataframe\">\n",
       "  <thead>\n",
       "    <tr style=\"text-align: right;\">\n",
       "      <th></th>\n",
       "      <th>File</th>\n",
       "      <th>Model</th>\n",
       "      <th>happy</th>\n",
       "      <th>surprised</th>\n",
       "      <th>angry</th>\n",
       "      <th>fearful</th>\n",
       "      <th>disgust</th>\n",
       "      <th>sad</th>\n",
       "    </tr>\n",
       "  </thead>\n",
       "  <tbody>\n",
       "    <tr>\n",
       "      <th>0</th>\n",
       "      <td>https___www.tiktok.com__senrisahontiveros_vide...</td>\n",
       "      <td>firdhokk/speech-emotion-recognition-with-faceb...</td>\n",
       "      <td>0.989997</td>\n",
       "      <td>0.006588</td>\n",
       "      <td>0.003113</td>\n",
       "      <td>0.000267</td>\n",
       "      <td>0.000026</td>\n",
       "      <td>NaN</td>\n",
       "    </tr>\n",
       "    <tr>\n",
       "      <th>1</th>\n",
       "      <td>https___www.tiktok.com__senrisahontiveros_vide...</td>\n",
       "      <td>firdhokk/speech-emotion-recognition-with-faceb...</td>\n",
       "      <td>0.991388</td>\n",
       "      <td>0.001133</td>\n",
       "      <td>0.007370</td>\n",
       "      <td>0.000084</td>\n",
       "      <td>0.000020</td>\n",
       "      <td>NaN</td>\n",
       "    </tr>\n",
       "    <tr>\n",
       "      <th>2</th>\n",
       "      <td>https___www.tiktok.com__senrisahontiveros_vide...</td>\n",
       "      <td>firdhokk/speech-emotion-recognition-with-faceb...</td>\n",
       "      <td>0.962523</td>\n",
       "      <td>0.005589</td>\n",
       "      <td>0.006437</td>\n",
       "      <td>NaN</td>\n",
       "      <td>0.025076</td>\n",
       "      <td>0.000286</td>\n",
       "    </tr>\n",
       "    <tr>\n",
       "      <th>3</th>\n",
       "      <td>https___www.tiktok.com__senrisahontiveros_vide...</td>\n",
       "      <td>firdhokk/speech-emotion-recognition-with-faceb...</td>\n",
       "      <td>0.996886</td>\n",
       "      <td>0.000393</td>\n",
       "      <td>0.002306</td>\n",
       "      <td>0.000263</td>\n",
       "      <td>0.000120</td>\n",
       "      <td>NaN</td>\n",
       "    </tr>\n",
       "  </tbody>\n",
       "</table>\n",
       "</div>"
      ],
      "text/plain": [
       "                                                File  \\\n",
       "0  https___www.tiktok.com__senrisahontiveros_vide...   \n",
       "1  https___www.tiktok.com__senrisahontiveros_vide...   \n",
       "2  https___www.tiktok.com__senrisahontiveros_vide...   \n",
       "3  https___www.tiktok.com__senrisahontiveros_vide...   \n",
       "\n",
       "                                               Model     happy  surprised  \\\n",
       "0  firdhokk/speech-emotion-recognition-with-faceb...  0.989997   0.006588   \n",
       "1  firdhokk/speech-emotion-recognition-with-faceb...  0.991388   0.001133   \n",
       "2  firdhokk/speech-emotion-recognition-with-faceb...  0.962523   0.005589   \n",
       "3  firdhokk/speech-emotion-recognition-with-faceb...  0.996886   0.000393   \n",
       "\n",
       "      angry   fearful   disgust       sad  \n",
       "0  0.003113  0.000267  0.000026       NaN  \n",
       "1  0.007370  0.000084  0.000020       NaN  \n",
       "2  0.006437       NaN  0.025076  0.000286  \n",
       "3  0.002306  0.000263  0.000120       NaN  "
      ]
     },
     "metadata": {},
     "output_type": "display_data"
    }
   ],
   "source": [
    "# # Process audio files with the first model\n",
    "# df_model1_1 = process_audio_with_model(\n",
    "#     audio_folder=r\"C:\\Users\\Ebo\\Projetos Personais\\Rappler\\Audio-Analysis\\data\\NEWNEW\\clean\\folis\\Risa Hontiveros\\enhanced\",\n",
    "#     model_name=\"firdhokk/speech-emotion-recognition-with-openai-whisper-large-v3\"\n",
    "# )\n",
    "\n",
    "# # Process audio files with the second model\n",
    "# df_model2_1 = process_audio_with_model(\n",
    "#     audio_folder=r\"C:\\Users\\Ebo\\Projetos Personais\\Rappler\\Audio-Analysis\\data\\NEWNEW\\clean\\folis\\Risa Hontiveros\\enhanced\",\n",
    "#     model_name=\"firdhokk/speech-emotion-recognition-with-facebook-wav2vec2-large-xlsr-53\"\n",
    "# )"
   ]
  },
  {
   "cell_type": "code",
   "execution_count": null,
   "metadata": {},
   "outputs": [],
   "source": [
    "# # Process audio files with the first model\n",
    "# df_model1_1 = process_audio_with_model(\n",
    "#     audio_folder=r\"C:\\Users\\Ebo\\Projetos Personais\\Rappler\\Audio-Analysis\\data\\NEWNEW\\clean\\folis\\Risa Hontiveros\\enhanced\",\n",
    "#     model_name=\"firdhokk/speech-emotion-recognition-with-openai-whisper-large-v3\"\n",
    "# )\n",
    "\n",
    "# # Process audio files with the second model\n",
    "# df_model2_1 = process_audio_with_model(\n",
    "#     audio_folder=r\"C:\\Users\\Ebo\\Projetos Personais\\Rappler\\Audio-Analysis\\data\\NEWNEW\\clean\\folis\\Risa Hontiveros\\enhanced\",\n",
    "#     model_name=\"firdhokk/speech-emotion-recognition-with-facebook-wav2vec2-large-xlsr-53\"\n",
    "# )"
   ]
  },
  {
   "cell_type": "code",
   "execution_count": null,
   "metadata": {},
   "outputs": [
    {
     "data": {
      "application/vnd.microsoft.datawrangler.viewer.v0+json": {
       "columns": [
        {
         "name": "index",
         "rawType": "int64",
         "type": "integer"
        },
        {
         "name": "File",
         "rawType": "object",
         "type": "string"
        },
        {
         "name": "Model",
         "rawType": "object",
         "type": "string"
        },
        {
         "name": "angry",
         "rawType": "float64",
         "type": "float"
        },
        {
         "name": "happy",
         "rawType": "float64",
         "type": "float"
        },
        {
         "name": "neutral",
         "rawType": "float64",
         "type": "float"
        },
        {
         "name": "fearful",
         "rawType": "float64",
         "type": "float"
        },
        {
         "name": "surprised",
         "rawType": "float64",
         "type": "float"
        }
       ],
       "conversionMethod": "pd.DataFrame",
       "ref": "3021cd0f-27ed-478a-8a65-f3c920069724",
       "rows": [
        [
         "0",
         "https___www.tiktok.com__senrisahontiveros_video_7460049988538617094__r_1_u_code_0_preview_pb_0_sharer_language_en__d_ej0cgj1jbjk125_share_item_id_7460049988538617094_source_h5_m.wav",
         "firdhokk/speech-emotion-recognition-with-openai-whisper-large-v3",
         "0.9141660332679749",
         "0.07213998585939407",
         "0.005227751098573208",
         "0.004228838719427586",
         "0.0024288599379360676"
        ],
        [
         "1",
         "https___www.tiktok.com__senrisahontiveros_video_7460091022698220808__r_1_u_code_0_preview_pb_0_sharer_language_en__d_ej20776f1hfjce_share_item_id_7460091022698220808_source_h5_m.wav",
         "firdhokk/speech-emotion-recognition-with-openai-whisper-large-v3",
         "0.22604183852672577",
         "0.7447713017463684",
         "0.005060142837464809",
         "0.009098623879253864",
         "0.013111299835145473"
        ],
        [
         "2",
         "https___www.tiktok.com__senrisahontiveros_video_7460680158538747142__r_1_u_code_0_preview_pb_0_sharer_language_en__d_ej03fb1mlgaajd_share_item_id_7460680158538747142_source_h5_m.wav",
         "firdhokk/speech-emotion-recognition-with-openai-whisper-large-v3",
         "0.9621850252151489",
         "0.015838375315070152",
         "0.007485354784876108",
         "0.002069454872980714",
         "0.010301618836820126"
        ],
        [
         "3",
         "https___www.tiktok.com__senrisahontiveros_video_7464830255035944198__r_1_u_code_0_preview_pb_0_sharer_language_en__d_ej20ji81lib496_share_item_id_7464830255035944198_source_h5_m.wav",
         "firdhokk/speech-emotion-recognition-with-openai-whisper-large-v3",
         "0.12485931813716888",
         "0.07497201859951019",
         "0.019864579662680626",
         "0.006123872473835945",
         "0.7707319259643555"
        ]
       ],
       "shape": {
        "columns": 7,
        "rows": 4
       }
      },
      "text/html": [
       "<div>\n",
       "<style scoped>\n",
       "    .dataframe tbody tr th:only-of-type {\n",
       "        vertical-align: middle;\n",
       "    }\n",
       "\n",
       "    .dataframe tbody tr th {\n",
       "        vertical-align: top;\n",
       "    }\n",
       "\n",
       "    .dataframe thead th {\n",
       "        text-align: right;\n",
       "    }\n",
       "</style>\n",
       "<table border=\"1\" class=\"dataframe\">\n",
       "  <thead>\n",
       "    <tr style=\"text-align: right;\">\n",
       "      <th></th>\n",
       "      <th>File</th>\n",
       "      <th>Model</th>\n",
       "      <th>angry</th>\n",
       "      <th>happy</th>\n",
       "      <th>neutral</th>\n",
       "      <th>fearful</th>\n",
       "      <th>surprised</th>\n",
       "    </tr>\n",
       "  </thead>\n",
       "  <tbody>\n",
       "    <tr>\n",
       "      <th>0</th>\n",
       "      <td>https___www.tiktok.com__senrisahontiveros_vide...</td>\n",
       "      <td>firdhokk/speech-emotion-recognition-with-opena...</td>\n",
       "      <td>0.914166</td>\n",
       "      <td>0.072140</td>\n",
       "      <td>0.005228</td>\n",
       "      <td>0.004229</td>\n",
       "      <td>0.002429</td>\n",
       "    </tr>\n",
       "    <tr>\n",
       "      <th>1</th>\n",
       "      <td>https___www.tiktok.com__senrisahontiveros_vide...</td>\n",
       "      <td>firdhokk/speech-emotion-recognition-with-opena...</td>\n",
       "      <td>0.226042</td>\n",
       "      <td>0.744771</td>\n",
       "      <td>0.005060</td>\n",
       "      <td>0.009099</td>\n",
       "      <td>0.013111</td>\n",
       "    </tr>\n",
       "    <tr>\n",
       "      <th>2</th>\n",
       "      <td>https___www.tiktok.com__senrisahontiveros_vide...</td>\n",
       "      <td>firdhokk/speech-emotion-recognition-with-opena...</td>\n",
       "      <td>0.962185</td>\n",
       "      <td>0.015838</td>\n",
       "      <td>0.007485</td>\n",
       "      <td>0.002069</td>\n",
       "      <td>0.010302</td>\n",
       "    </tr>\n",
       "    <tr>\n",
       "      <th>3</th>\n",
       "      <td>https___www.tiktok.com__senrisahontiveros_vide...</td>\n",
       "      <td>firdhokk/speech-emotion-recognition-with-opena...</td>\n",
       "      <td>0.124859</td>\n",
       "      <td>0.074972</td>\n",
       "      <td>0.019865</td>\n",
       "      <td>0.006124</td>\n",
       "      <td>0.770732</td>\n",
       "    </tr>\n",
       "  </tbody>\n",
       "</table>\n",
       "</div>"
      ],
      "text/plain": [
       "                                                File  \\\n",
       "0  https___www.tiktok.com__senrisahontiveros_vide...   \n",
       "1  https___www.tiktok.com__senrisahontiveros_vide...   \n",
       "2  https___www.tiktok.com__senrisahontiveros_vide...   \n",
       "3  https___www.tiktok.com__senrisahontiveros_vide...   \n",
       "\n",
       "                                               Model     angry     happy  \\\n",
       "0  firdhokk/speech-emotion-recognition-with-opena...  0.914166  0.072140   \n",
       "1  firdhokk/speech-emotion-recognition-with-opena...  0.226042  0.744771   \n",
       "2  firdhokk/speech-emotion-recognition-with-opena...  0.962185  0.015838   \n",
       "3  firdhokk/speech-emotion-recognition-with-opena...  0.124859  0.074972   \n",
       "\n",
       "    neutral   fearful  surprised  \n",
       "0  0.005228  0.004229   0.002429  \n",
       "1  0.005060  0.009099   0.013111  \n",
       "2  0.007485  0.002069   0.010302  \n",
       "3  0.019865  0.006124   0.770732  "
      ]
     },
     "metadata": {},
     "output_type": "display_data"
    },
    {
     "data": {
      "application/vnd.microsoft.datawrangler.viewer.v0+json": {
       "columns": [
        {
         "name": "index",
         "rawType": "int64",
         "type": "integer"
        },
        {
         "name": "File",
         "rawType": "object",
         "type": "string"
        },
        {
         "name": "Model",
         "rawType": "object",
         "type": "string"
        },
        {
         "name": "happy",
         "rawType": "float64",
         "type": "float"
        },
        {
         "name": "surprised",
         "rawType": "float64",
         "type": "float"
        },
        {
         "name": "angry",
         "rawType": "float64",
         "type": "float"
        },
        {
         "name": "fearful",
         "rawType": "float64",
         "type": "float"
        },
        {
         "name": "disgust",
         "rawType": "float64",
         "type": "float"
        },
        {
         "name": "sad",
         "rawType": "float64",
         "type": "float"
        }
       ],
       "conversionMethod": "pd.DataFrame",
       "ref": "e51dd530-0396-4727-ad7f-ca0a4f2237b1",
       "rows": [
        [
         "0",
         "https___www.tiktok.com__senrisahontiveros_video_7460049988538617094__r_1_u_code_0_preview_pb_0_sharer_language_en__d_ej0cgj1jbjk125_share_item_id_7460049988538617094_source_h5_m.wav",
         "firdhokk/speech-emotion-recognition-with-facebook-wav2vec2-large-xlsr-53",
         "0.989997148513794",
         "0.006587567273527384",
         "0.003112746635451913",
         "0.0002673341368790716",
         "2.593740282463841e-05",
         null
        ],
        [
         "1",
         "https___www.tiktok.com__senrisahontiveros_video_7460091022698220808__r_1_u_code_0_preview_pb_0_sharer_language_en__d_ej20776f1hfjce_share_item_id_7460091022698220808_source_h5_m.wav",
         "firdhokk/speech-emotion-recognition-with-facebook-wav2vec2-large-xlsr-53",
         "0.9913877844810486",
         "0.0011330011766403913",
         "0.007370228413492441",
         "8.414279000135139e-05",
         "1.9897252059308812e-05",
         null
        ],
        [
         "2",
         "https___www.tiktok.com__senrisahontiveros_video_7460680158538747142__r_1_u_code_0_preview_pb_0_sharer_language_en__d_ej03fb1mlgaajd_share_item_id_7460680158538747142_source_h5_m.wav",
         "firdhokk/speech-emotion-recognition-with-facebook-wav2vec2-large-xlsr-53",
         "0.9625225067138672",
         "0.005589253734797239",
         "0.006436766125261784",
         null,
         "0.02507591061294079",
         "0.0002864198468159884"
        ],
        [
         "3",
         "https___www.tiktok.com__senrisahontiveros_video_7464830255035944198__r_1_u_code_0_preview_pb_0_sharer_language_en__d_ej20ji81lib496_share_item_id_7464830255035944198_source_h5_m.wav",
         "firdhokk/speech-emotion-recognition-with-facebook-wav2vec2-large-xlsr-53",
         "0.9968860745429993",
         "0.00039257301250472665",
         "0.0023055244237184525",
         "0.0002628888178151101",
         "0.00011958502000197768",
         null
        ]
       ],
       "shape": {
        "columns": 8,
        "rows": 4
       }
      },
      "text/html": [
       "<div>\n",
       "<style scoped>\n",
       "    .dataframe tbody tr th:only-of-type {\n",
       "        vertical-align: middle;\n",
       "    }\n",
       "\n",
       "    .dataframe tbody tr th {\n",
       "        vertical-align: top;\n",
       "    }\n",
       "\n",
       "    .dataframe thead th {\n",
       "        text-align: right;\n",
       "    }\n",
       "</style>\n",
       "<table border=\"1\" class=\"dataframe\">\n",
       "  <thead>\n",
       "    <tr style=\"text-align: right;\">\n",
       "      <th></th>\n",
       "      <th>File</th>\n",
       "      <th>Model</th>\n",
       "      <th>happy</th>\n",
       "      <th>surprised</th>\n",
       "      <th>angry</th>\n",
       "      <th>fearful</th>\n",
       "      <th>disgust</th>\n",
       "      <th>sad</th>\n",
       "    </tr>\n",
       "  </thead>\n",
       "  <tbody>\n",
       "    <tr>\n",
       "      <th>0</th>\n",
       "      <td>https___www.tiktok.com__senrisahontiveros_vide...</td>\n",
       "      <td>firdhokk/speech-emotion-recognition-with-faceb...</td>\n",
       "      <td>0.989997</td>\n",
       "      <td>0.006588</td>\n",
       "      <td>0.003113</td>\n",
       "      <td>0.000267</td>\n",
       "      <td>0.000026</td>\n",
       "      <td>NaN</td>\n",
       "    </tr>\n",
       "    <tr>\n",
       "      <th>1</th>\n",
       "      <td>https___www.tiktok.com__senrisahontiveros_vide...</td>\n",
       "      <td>firdhokk/speech-emotion-recognition-with-faceb...</td>\n",
       "      <td>0.991388</td>\n",
       "      <td>0.001133</td>\n",
       "      <td>0.007370</td>\n",
       "      <td>0.000084</td>\n",
       "      <td>0.000020</td>\n",
       "      <td>NaN</td>\n",
       "    </tr>\n",
       "    <tr>\n",
       "      <th>2</th>\n",
       "      <td>https___www.tiktok.com__senrisahontiveros_vide...</td>\n",
       "      <td>firdhokk/speech-emotion-recognition-with-faceb...</td>\n",
       "      <td>0.962523</td>\n",
       "      <td>0.005589</td>\n",
       "      <td>0.006437</td>\n",
       "      <td>NaN</td>\n",
       "      <td>0.025076</td>\n",
       "      <td>0.000286</td>\n",
       "    </tr>\n",
       "    <tr>\n",
       "      <th>3</th>\n",
       "      <td>https___www.tiktok.com__senrisahontiveros_vide...</td>\n",
       "      <td>firdhokk/speech-emotion-recognition-with-faceb...</td>\n",
       "      <td>0.996886</td>\n",
       "      <td>0.000393</td>\n",
       "      <td>0.002306</td>\n",
       "      <td>0.000263</td>\n",
       "      <td>0.000120</td>\n",
       "      <td>NaN</td>\n",
       "    </tr>\n",
       "  </tbody>\n",
       "</table>\n",
       "</div>"
      ],
      "text/plain": [
       "                                                File  \\\n",
       "0  https___www.tiktok.com__senrisahontiveros_vide...   \n",
       "1  https___www.tiktok.com__senrisahontiveros_vide...   \n",
       "2  https___www.tiktok.com__senrisahontiveros_vide...   \n",
       "3  https___www.tiktok.com__senrisahontiveros_vide...   \n",
       "\n",
       "                                               Model     happy  surprised  \\\n",
       "0  firdhokk/speech-emotion-recognition-with-faceb...  0.989997   0.006588   \n",
       "1  firdhokk/speech-emotion-recognition-with-faceb...  0.991388   0.001133   \n",
       "2  firdhokk/speech-emotion-recognition-with-faceb...  0.962523   0.005589   \n",
       "3  firdhokk/speech-emotion-recognition-with-faceb...  0.996886   0.000393   \n",
       "\n",
       "      angry   fearful   disgust       sad  \n",
       "0  0.003113  0.000267  0.000026       NaN  \n",
       "1  0.007370  0.000084  0.000020       NaN  \n",
       "2  0.006437       NaN  0.025076  0.000286  \n",
       "3  0.002306  0.000263  0.000120       NaN  "
      ]
     },
     "metadata": {},
     "output_type": "display_data"
    }
   ],
   "source": [
    "# display(df_model1_1)\n",
    "# display(df_model2_1)"
   ]
  },
  {
   "cell_type": "code",
   "execution_count": null,
   "metadata": {},
   "outputs": [
    {
     "name": "stdout",
     "output_type": "stream",
     "text": [
      "Device: GPU\n",
      "Processing with model: firdhokk/speech-emotion-recognition-with-openai-whisper-large-v3\n",
      "Device: GPU\n",
      "Processing with model: firdhokk/speech-emotion-recognition-with-facebook-wav2vec2-large-xlsr-53\n"
     ]
    },
    {
     "data": {
      "application/vnd.microsoft.datawrangler.viewer.v0+json": {
       "columns": [
        {
         "name": "index",
         "rawType": "int64",
         "type": "integer"
        },
        {
         "name": "File",
         "rawType": "object",
         "type": "string"
        },
        {
         "name": "Model",
         "rawType": "object",
         "type": "string"
        },
        {
         "name": "angry",
         "rawType": "float64",
         "type": "float"
        },
        {
         "name": "happy",
         "rawType": "float64",
         "type": "float"
        },
        {
         "name": "neutral",
         "rawType": "float64",
         "type": "float"
        },
        {
         "name": "fearful",
         "rawType": "float64",
         "type": "float"
        },
        {
         "name": "surprised",
         "rawType": "float64",
         "type": "float"
        }
       ],
       "conversionMethod": "pd.DataFrame",
       "ref": "72332b26-2eb3-470f-bbcf-35917de77b00",
       "rows": [
        [
         "0",
         "https___www.tiktok.com__senrisahontiveros_video_7460049988538617094__r_1_u_code_0_preview_pb_0_sharer_language_en__d_ej0cgj1jbjk125_share_item_id_7460049988538617094_source_h5_m.wav",
         "firdhokk/speech-emotion-recognition-with-openai-whisper-large-v3",
         "0.9277678728103638",
         "0.06004592776298523",
         "0.00475380290299654",
         "0.0036107697524130344",
         "0.002088000066578388"
        ],
        [
         "1",
         "https___www.tiktok.com__senrisahontiveros_video_7460091022698220808__r_1_u_code_0_preview_pb_0_sharer_language_en__d_ej20776f1hfjce_share_item_id_7460091022698220808_source_h5_m.wav",
         "firdhokk/speech-emotion-recognition-with-openai-whisper-large-v3",
         "0.5553251504898071",
         "0.4226938784122467",
         "0.005575031042098999",
         "0.00790078192949295",
         "0.006354528944939375"
        ],
        [
         "2",
         "https___www.tiktok.com__senrisahontiveros_video_7460680158538747142__r_1_u_code_0_preview_pb_0_sharer_language_en__d_ej03fb1mlgaajd_share_item_id_7460680158538747142_source_h5_m.wav",
         "firdhokk/speech-emotion-recognition-with-openai-whisper-large-v3",
         "0.97747403383255",
         "0.013197566382586956",
         "0.0033382726833224297",
         "0.0015633506700396538",
         "0.0029660717118531466"
        ],
        [
         "3",
         "https___www.tiktok.com__senrisahontiveros_video_7464830255035944198__r_1_u_code_0_preview_pb_0_sharer_language_en__d_ej20ji81lib496_share_item_id_7464830255035944198_source_h5_m.wav",
         "firdhokk/speech-emotion-recognition-with-openai-whisper-large-v3",
         "0.2542136013507843",
         "0.2834897041320801",
         "0.031495608389377594",
         "0.01759873330593109",
         "0.4064103066921234"
        ]
       ],
       "shape": {
        "columns": 7,
        "rows": 4
       }
      },
      "text/html": [
       "<div>\n",
       "<style scoped>\n",
       "    .dataframe tbody tr th:only-of-type {\n",
       "        vertical-align: middle;\n",
       "    }\n",
       "\n",
       "    .dataframe tbody tr th {\n",
       "        vertical-align: top;\n",
       "    }\n",
       "\n",
       "    .dataframe thead th {\n",
       "        text-align: right;\n",
       "    }\n",
       "</style>\n",
       "<table border=\"1\" class=\"dataframe\">\n",
       "  <thead>\n",
       "    <tr style=\"text-align: right;\">\n",
       "      <th></th>\n",
       "      <th>File</th>\n",
       "      <th>Model</th>\n",
       "      <th>angry</th>\n",
       "      <th>happy</th>\n",
       "      <th>neutral</th>\n",
       "      <th>fearful</th>\n",
       "      <th>surprised</th>\n",
       "    </tr>\n",
       "  </thead>\n",
       "  <tbody>\n",
       "    <tr>\n",
       "      <th>0</th>\n",
       "      <td>https___www.tiktok.com__senrisahontiveros_vide...</td>\n",
       "      <td>firdhokk/speech-emotion-recognition-with-opena...</td>\n",
       "      <td>0.927768</td>\n",
       "      <td>0.060046</td>\n",
       "      <td>0.004754</td>\n",
       "      <td>0.003611</td>\n",
       "      <td>0.002088</td>\n",
       "    </tr>\n",
       "    <tr>\n",
       "      <th>1</th>\n",
       "      <td>https___www.tiktok.com__senrisahontiveros_vide...</td>\n",
       "      <td>firdhokk/speech-emotion-recognition-with-opena...</td>\n",
       "      <td>0.555325</td>\n",
       "      <td>0.422694</td>\n",
       "      <td>0.005575</td>\n",
       "      <td>0.007901</td>\n",
       "      <td>0.006355</td>\n",
       "    </tr>\n",
       "    <tr>\n",
       "      <th>2</th>\n",
       "      <td>https___www.tiktok.com__senrisahontiveros_vide...</td>\n",
       "      <td>firdhokk/speech-emotion-recognition-with-opena...</td>\n",
       "      <td>0.977474</td>\n",
       "      <td>0.013198</td>\n",
       "      <td>0.003338</td>\n",
       "      <td>0.001563</td>\n",
       "      <td>0.002966</td>\n",
       "    </tr>\n",
       "    <tr>\n",
       "      <th>3</th>\n",
       "      <td>https___www.tiktok.com__senrisahontiveros_vide...</td>\n",
       "      <td>firdhokk/speech-emotion-recognition-with-opena...</td>\n",
       "      <td>0.254214</td>\n",
       "      <td>0.283490</td>\n",
       "      <td>0.031496</td>\n",
       "      <td>0.017599</td>\n",
       "      <td>0.406410</td>\n",
       "    </tr>\n",
       "  </tbody>\n",
       "</table>\n",
       "</div>"
      ],
      "text/plain": [
       "                                                File  \\\n",
       "0  https___www.tiktok.com__senrisahontiveros_vide...   \n",
       "1  https___www.tiktok.com__senrisahontiveros_vide...   \n",
       "2  https___www.tiktok.com__senrisahontiveros_vide...   \n",
       "3  https___www.tiktok.com__senrisahontiveros_vide...   \n",
       "\n",
       "                                               Model     angry     happy  \\\n",
       "0  firdhokk/speech-emotion-recognition-with-opena...  0.927768  0.060046   \n",
       "1  firdhokk/speech-emotion-recognition-with-opena...  0.555325  0.422694   \n",
       "2  firdhokk/speech-emotion-recognition-with-opena...  0.977474  0.013198   \n",
       "3  firdhokk/speech-emotion-recognition-with-opena...  0.254214  0.283490   \n",
       "\n",
       "    neutral   fearful  surprised  \n",
       "0  0.004754  0.003611   0.002088  \n",
       "1  0.005575  0.007901   0.006355  \n",
       "2  0.003338  0.001563   0.002966  \n",
       "3  0.031496  0.017599   0.406410  "
      ]
     },
     "metadata": {},
     "output_type": "display_data"
    },
    {
     "data": {
      "application/vnd.microsoft.datawrangler.viewer.v0+json": {
       "columns": [
        {
         "name": "index",
         "rawType": "int64",
         "type": "integer"
        },
        {
         "name": "File",
         "rawType": "object",
         "type": "string"
        },
        {
         "name": "Model",
         "rawType": "object",
         "type": "string"
        },
        {
         "name": "happy",
         "rawType": "float64",
         "type": "float"
        },
        {
         "name": "surprised",
         "rawType": "float64",
         "type": "float"
        },
        {
         "name": "angry",
         "rawType": "float64",
         "type": "float"
        },
        {
         "name": "fearful",
         "rawType": "float64",
         "type": "float"
        },
        {
         "name": "disgust",
         "rawType": "float64",
         "type": "float"
        },
        {
         "name": "sad",
         "rawType": "float64",
         "type": "float"
        }
       ],
       "conversionMethod": "pd.DataFrame",
       "ref": "981dfa67-a26c-4e19-bf81-1684637096ef",
       "rows": [
        [
         "0",
         "https___www.tiktok.com__senrisahontiveros_video_7460049988538617094__r_1_u_code_0_preview_pb_0_sharer_language_en__d_ej0cgj1jbjk125_share_item_id_7460049988538617094_source_h5_m.wav",
         "firdhokk/speech-emotion-recognition-with-facebook-wav2vec2-large-xlsr-53",
         "0.983964204788208",
         "0.012395001947879791",
         "0.0032756729051470757",
         "0.000322237639920786",
         "3.181378633598797e-05",
         null
        ],
        [
         "1",
         "https___www.tiktok.com__senrisahontiveros_video_7460091022698220808__r_1_u_code_0_preview_pb_0_sharer_language_en__d_ej20776f1hfjce_share_item_id_7460091022698220808_source_h5_m.wav",
         "firdhokk/speech-emotion-recognition-with-facebook-wav2vec2-large-xlsr-53",
         "0.9985508322715759",
         "0.0007345639751292765",
         "0.0006581861525774002",
         "4.464474841370247e-05",
         "8.897057341528125e-06",
         null
        ],
        [
         "2",
         "https___www.tiktok.com__senrisahontiveros_video_7460680158538747142__r_1_u_code_0_preview_pb_0_sharer_language_en__d_ej03fb1mlgaajd_share_item_id_7460680158538747142_source_h5_m.wav",
         "firdhokk/speech-emotion-recognition-with-facebook-wav2vec2-large-xlsr-53",
         "0.9970953464508057",
         "0.0011706907534971833",
         "0.0005535108502954245",
         null,
         "0.0010921552311629057",
         "6.453694368246943e-05"
        ],
        [
         "3",
         "https___www.tiktok.com__senrisahontiveros_video_7464830255035944198__r_1_u_code_0_preview_pb_0_sharer_language_en__d_ej20ji81lib496_share_item_id_7464830255035944198_source_h5_m.wav",
         "firdhokk/speech-emotion-recognition-with-facebook-wav2vec2-large-xlsr-53",
         "0.9990907907485962",
         "0.00013990314619150013",
         "0.0006586789386346936",
         "3.3433032513130456e-05",
         "6.244986434467137e-05",
         null
        ]
       ],
       "shape": {
        "columns": 8,
        "rows": 4
       }
      },
      "text/html": [
       "<div>\n",
       "<style scoped>\n",
       "    .dataframe tbody tr th:only-of-type {\n",
       "        vertical-align: middle;\n",
       "    }\n",
       "\n",
       "    .dataframe tbody tr th {\n",
       "        vertical-align: top;\n",
       "    }\n",
       "\n",
       "    .dataframe thead th {\n",
       "        text-align: right;\n",
       "    }\n",
       "</style>\n",
       "<table border=\"1\" class=\"dataframe\">\n",
       "  <thead>\n",
       "    <tr style=\"text-align: right;\">\n",
       "      <th></th>\n",
       "      <th>File</th>\n",
       "      <th>Model</th>\n",
       "      <th>happy</th>\n",
       "      <th>surprised</th>\n",
       "      <th>angry</th>\n",
       "      <th>fearful</th>\n",
       "      <th>disgust</th>\n",
       "      <th>sad</th>\n",
       "    </tr>\n",
       "  </thead>\n",
       "  <tbody>\n",
       "    <tr>\n",
       "      <th>0</th>\n",
       "      <td>https___www.tiktok.com__senrisahontiveros_vide...</td>\n",
       "      <td>firdhokk/speech-emotion-recognition-with-faceb...</td>\n",
       "      <td>0.983964</td>\n",
       "      <td>0.012395</td>\n",
       "      <td>0.003276</td>\n",
       "      <td>0.000322</td>\n",
       "      <td>0.000032</td>\n",
       "      <td>NaN</td>\n",
       "    </tr>\n",
       "    <tr>\n",
       "      <th>1</th>\n",
       "      <td>https___www.tiktok.com__senrisahontiveros_vide...</td>\n",
       "      <td>firdhokk/speech-emotion-recognition-with-faceb...</td>\n",
       "      <td>0.998551</td>\n",
       "      <td>0.000735</td>\n",
       "      <td>0.000658</td>\n",
       "      <td>0.000045</td>\n",
       "      <td>0.000009</td>\n",
       "      <td>NaN</td>\n",
       "    </tr>\n",
       "    <tr>\n",
       "      <th>2</th>\n",
       "      <td>https___www.tiktok.com__senrisahontiveros_vide...</td>\n",
       "      <td>firdhokk/speech-emotion-recognition-with-faceb...</td>\n",
       "      <td>0.997095</td>\n",
       "      <td>0.001171</td>\n",
       "      <td>0.000554</td>\n",
       "      <td>NaN</td>\n",
       "      <td>0.001092</td>\n",
       "      <td>0.000065</td>\n",
       "    </tr>\n",
       "    <tr>\n",
       "      <th>3</th>\n",
       "      <td>https___www.tiktok.com__senrisahontiveros_vide...</td>\n",
       "      <td>firdhokk/speech-emotion-recognition-with-faceb...</td>\n",
       "      <td>0.999091</td>\n",
       "      <td>0.000140</td>\n",
       "      <td>0.000659</td>\n",
       "      <td>0.000033</td>\n",
       "      <td>0.000062</td>\n",
       "      <td>NaN</td>\n",
       "    </tr>\n",
       "  </tbody>\n",
       "</table>\n",
       "</div>"
      ],
      "text/plain": [
       "                                                File  \\\n",
       "0  https___www.tiktok.com__senrisahontiveros_vide...   \n",
       "1  https___www.tiktok.com__senrisahontiveros_vide...   \n",
       "2  https___www.tiktok.com__senrisahontiveros_vide...   \n",
       "3  https___www.tiktok.com__senrisahontiveros_vide...   \n",
       "\n",
       "                                               Model     happy  surprised  \\\n",
       "0  firdhokk/speech-emotion-recognition-with-faceb...  0.983964   0.012395   \n",
       "1  firdhokk/speech-emotion-recognition-with-faceb...  0.998551   0.000735   \n",
       "2  firdhokk/speech-emotion-recognition-with-faceb...  0.997095   0.001171   \n",
       "3  firdhokk/speech-emotion-recognition-with-faceb...  0.999091   0.000140   \n",
       "\n",
       "      angry   fearful   disgust       sad  \n",
       "0  0.003276  0.000322  0.000032       NaN  \n",
       "1  0.000658  0.000045  0.000009       NaN  \n",
       "2  0.000554       NaN  0.001092  0.000065  \n",
       "3  0.000659  0.000033  0.000062       NaN  "
      ]
     },
     "metadata": {},
     "output_type": "display_data"
    }
   ],
   "source": [
    "# def process_audio_with_model(audio_folder, model_name, device=0):\n",
    "#     \"\"\"\n",
    "#     Process audio files in the specified folder with the given model and return the results as a DataFrame.\n",
    "    \n",
    "#     Parameters:\n",
    "#     - audio_folder (str): Directory containing the audio files.\n",
    "#     - model_name (str): Name of the model to use for emotion recognition.\n",
    "#     - device (int): Device to use for processing (0 for GPU, -1 for CPU).\n",
    "    \n",
    "#     Returns:\n",
    "#     - pd.DataFrame: DataFrame containing the results.\n",
    "#     \"\"\"\n",
    "#     audio_files = [f for f in os.listdir(audio_folder) if f.endswith(\".wav\")]\n",
    "#     print(f\"Device: {'GPU' if device == 0 else 'CPU'}\")\n",
    "\n",
    "#     all_data = []\n",
    "\n",
    "#     print(f\"Processing with model: {model_name}\")\n",
    "#     try:\n",
    "#         emotion_pipeline = pipeline(\"audio-classification\", model=model_name, device=device)\n",
    "\n",
    "#         for audio_file in audio_files:\n",
    "#             audio_path = os.path.join(audio_folder, audio_file)\n",
    "#             try:\n",
    "#                 results = emotion_pipeline(audio_path)\n",
    "#                 result_dict = {\"File\": audio_file, \"Model\": model_name}\n",
    "#                 for result in results:\n",
    "#                     result_dict[result[\"label\"]] = result[\"score\"]\n",
    "#                 all_data.append(result_dict)\n",
    "#             except RuntimeError as e:\n",
    "#                 if \"CUDA out of memory\" in str(e):\n",
    "#                     print(\"Out of memory! Switching to CPU.\")\n",
    "#                     emotion_pipeline = pipeline(\"audio-classification\", model=model_name, device=-1)\n",
    "#                     results = emotion_pipeline(audio_path)\n",
    "#                     result_dict = {\"File\": audio_file, \"Model\": model_name}\n",
    "#                     for result in results:\n",
    "#                         result_dict[result[\"label\"]] = result[\"score\"]\n",
    "#                     all_data.append(result_dict)\n",
    "\n",
    "#     except Exception as e:\n",
    "#         print(f\"Error with model {model_name}: {e}\")\n",
    "\n",
    "#     # Cleanup\n",
    "#     del emotion_pipeline\n",
    "#     torch.cuda.empty_cache()\n",
    "#     gc.collect()\n",
    "\n",
    "#     return pd.DataFrame(all_data)\n",
    "\n",
    "# # Process audio files with the first model\n",
    "# df_model1_wav = process_audio_with_model(\n",
    "#     audio_folder=r\"C:\\Users\\Ebo\\Projetos Personais\\Rappler\\Audio-Analysis\\data\\NEWNEW\\clean\\folis\\Risa Hontiveros\\waved\",\n",
    "#     model_name=\"firdhokk/speech-emotion-recognition-with-openai-whisper-large-v3\"\n",
    "# )\n",
    "\n",
    "# # # Process audio files with the second model\n",
    "# # df_model2_wav = process_audio_with_model(\n",
    "# #     audio_folder=r\"C:\\Users\\Ebo\\Projetos Personais\\Rappler\\Audio-Analysis\\data\\NEWNEW\\clean\\folis\\Risa Hontiveros\\waved\",\n",
    "# #     model_name=\"firdhokk/speech-emotion-recognition-with-facebook-wav2vec2-large-xlsr-53\"\n",
    "# # )\n",
    "\n",
    "# # # Display the DataFrames\n",
    "# # display(df_model1_wav)\n",
    "# # display(df_model2_wav)"
   ]
  }
 ],
 "metadata": {
  "kernelspec": {
   "display_name": "odeon",
   "language": "python",
   "name": "python3"
  },
  "language_info": {
   "codemirror_mode": {
    "name": "ipython",
    "version": 3
   },
   "file_extension": ".py",
   "mimetype": "text/x-python",
   "name": "python",
   "nbconvert_exporter": "python",
   "pygments_lexer": "ipython3",
   "version": "3.12.3"
  }
 },
 "nbformat": 4,
 "nbformat_minor": 2
}
